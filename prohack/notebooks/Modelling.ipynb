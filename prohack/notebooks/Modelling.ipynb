{
 "cells": [
  {
   "cell_type": "markdown",
   "metadata": {},
   "source": [
    "# Imports"
   ]
  },
  {
   "cell_type": "code",
   "execution_count": 1,
   "metadata": {},
   "outputs": [],
   "source": [
    "import numpy as np\n",
    "import pandas as pd\n",
    "\n",
    "import matplotlib.pyplot as plt\n",
    "%matplotlib inline\n",
    "import seaborn as sns; sns.set()"
   ]
  },
  {
   "cell_type": "code",
   "execution_count": 2,
   "metadata": {},
   "outputs": [],
   "source": [
    "data = data = pd.read_csv(\"./Data/train_to_download_final_1.csv\")"
   ]
  },
  {
   "cell_type": "code",
   "execution_count": 3,
   "metadata": {},
   "outputs": [
    {
     "data": {
      "text/html": [
       "<div>\n",
       "<style scoped>\n",
       "    .dataframe tbody tr th:only-of-type {\n",
       "        vertical-align: middle;\n",
       "    }\n",
       "\n",
       "    .dataframe tbody tr th {\n",
       "        vertical-align: top;\n",
       "    }\n",
       "\n",
       "    .dataframe thead th {\n",
       "        text-align: right;\n",
       "    }\n",
       "</style>\n",
       "<table border=\"1\" class=\"dataframe\">\n",
       "  <thead>\n",
       "    <tr style=\"text-align: right;\">\n",
       "      <th></th>\n",
       "      <th>galactic year</th>\n",
       "      <th>galaxy</th>\n",
       "      <th>existence expectancy index</th>\n",
       "      <th>existence expectancy at birth</th>\n",
       "      <th>Gross income per capita</th>\n",
       "      <th>Income Index</th>\n",
       "      <th>Expected years of education (galactic years)</th>\n",
       "      <th>Mean years of education (galactic years)</th>\n",
       "      <th>Intergalactic Development Index (IDI)</th>\n",
       "      <th>Education Index</th>\n",
       "      <th>...</th>\n",
       "      <th>Intergalactic Development Index (IDI), female</th>\n",
       "      <th>Intergalactic Development Index (IDI), male</th>\n",
       "      <th>Gender Development Index (GDI)</th>\n",
       "      <th>Intergalactic Development Index (IDI), female, Rank</th>\n",
       "      <th>Intergalactic Development Index (IDI), male, Rank</th>\n",
       "      <th>Adjusted net savings</th>\n",
       "      <th>Creature Immunodeficiency Disease prevalence, adult (% ages 15-49), total</th>\n",
       "      <th>Private galaxy capital flows (% of GGP)</th>\n",
       "      <th>Gender Inequality Index (GII)</th>\n",
       "      <th>y</th>\n",
       "    </tr>\n",
       "  </thead>\n",
       "  <tbody>\n",
       "    <tr>\n",
       "      <td>0</td>\n",
       "      <td>990025</td>\n",
       "      <td>Large Magellanic Cloud (LMC)</td>\n",
       "      <td>0.628657</td>\n",
       "      <td>63.125200</td>\n",
       "      <td>27109.234310</td>\n",
       "      <td>0.646039</td>\n",
       "      <td>8.240543</td>\n",
       "      <td>NaN</td>\n",
       "      <td>NaN</td>\n",
       "      <td>NaN</td>\n",
       "      <td>...</td>\n",
       "      <td>NaN</td>\n",
       "      <td>NaN</td>\n",
       "      <td>NaN</td>\n",
       "      <td>NaN</td>\n",
       "      <td>NaN</td>\n",
       "      <td>NaN</td>\n",
       "      <td>NaN</td>\n",
       "      <td>NaN</td>\n",
       "      <td>NaN</td>\n",
       "      <td>0.052590</td>\n",
       "    </tr>\n",
       "    <tr>\n",
       "      <td>1</td>\n",
       "      <td>990025</td>\n",
       "      <td>Camelopardalis B</td>\n",
       "      <td>0.818082</td>\n",
       "      <td>81.004994</td>\n",
       "      <td>30166.793958</td>\n",
       "      <td>0.852246</td>\n",
       "      <td>10.671823</td>\n",
       "      <td>4.742470</td>\n",
       "      <td>0.833624</td>\n",
       "      <td>0.467873</td>\n",
       "      <td>...</td>\n",
       "      <td>NaN</td>\n",
       "      <td>NaN</td>\n",
       "      <td>NaN</td>\n",
       "      <td>NaN</td>\n",
       "      <td>NaN</td>\n",
       "      <td>19.177926</td>\n",
       "      <td>NaN</td>\n",
       "      <td>22.785018</td>\n",
       "      <td>NaN</td>\n",
       "      <td>0.059868</td>\n",
       "    </tr>\n",
       "    <tr>\n",
       "      <td>2</td>\n",
       "      <td>990025</td>\n",
       "      <td>Virgo I</td>\n",
       "      <td>0.659443</td>\n",
       "      <td>59.570534</td>\n",
       "      <td>8441.707353</td>\n",
       "      <td>0.499762</td>\n",
       "      <td>8.840316</td>\n",
       "      <td>5.583973</td>\n",
       "      <td>0.469110</td>\n",
       "      <td>0.363837</td>\n",
       "      <td>...</td>\n",
       "      <td>NaN</td>\n",
       "      <td>NaN</td>\n",
       "      <td>NaN</td>\n",
       "      <td>NaN</td>\n",
       "      <td>NaN</td>\n",
       "      <td>21.151265</td>\n",
       "      <td>6.534020</td>\n",
       "      <td>NaN</td>\n",
       "      <td>NaN</td>\n",
       "      <td>0.050449</td>\n",
       "    </tr>\n",
       "    <tr>\n",
       "      <td>3</td>\n",
       "      <td>990025</td>\n",
       "      <td>UGC 8651 (DDO 181)</td>\n",
       "      <td>0.555862</td>\n",
       "      <td>52.333293</td>\n",
       "      <td>NaN</td>\n",
       "      <td>NaN</td>\n",
       "      <td>NaN</td>\n",
       "      <td>NaN</td>\n",
       "      <td>NaN</td>\n",
       "      <td>NaN</td>\n",
       "      <td>...</td>\n",
       "      <td>NaN</td>\n",
       "      <td>NaN</td>\n",
       "      <td>NaN</td>\n",
       "      <td>NaN</td>\n",
       "      <td>NaN</td>\n",
       "      <td>NaN</td>\n",
       "      <td>5.912194</td>\n",
       "      <td>NaN</td>\n",
       "      <td>NaN</td>\n",
       "      <td>0.049394</td>\n",
       "    </tr>\n",
       "    <tr>\n",
       "      <td>4</td>\n",
       "      <td>990025</td>\n",
       "      <td>Tucana Dwarf</td>\n",
       "      <td>0.991196</td>\n",
       "      <td>81.802464</td>\n",
       "      <td>81033.956906</td>\n",
       "      <td>1.131163</td>\n",
       "      <td>13.800672</td>\n",
       "      <td>13.188907</td>\n",
       "      <td>0.910341</td>\n",
       "      <td>0.918353</td>\n",
       "      <td>...</td>\n",
       "      <td>NaN</td>\n",
       "      <td>NaN</td>\n",
       "      <td>NaN</td>\n",
       "      <td>NaN</td>\n",
       "      <td>NaN</td>\n",
       "      <td>NaN</td>\n",
       "      <td>5.611753</td>\n",
       "      <td>NaN</td>\n",
       "      <td>NaN</td>\n",
       "      <td>0.154247</td>\n",
       "    </tr>\n",
       "  </tbody>\n",
       "</table>\n",
       "<p>5 rows × 80 columns</p>\n",
       "</div>"
      ],
      "text/plain": [
       "   galactic year                        galaxy  existence expectancy index  \\\n",
       "0         990025  Large Magellanic Cloud (LMC)                    0.628657   \n",
       "1         990025              Camelopardalis B                    0.818082   \n",
       "2         990025                       Virgo I                    0.659443   \n",
       "3         990025            UGC 8651 (DDO 181)                    0.555862   \n",
       "4         990025                  Tucana Dwarf                    0.991196   \n",
       "\n",
       "   existence expectancy at birth  Gross income per capita  Income Index  \\\n",
       "0                      63.125200             27109.234310      0.646039   \n",
       "1                      81.004994             30166.793958      0.852246   \n",
       "2                      59.570534              8441.707353      0.499762   \n",
       "3                      52.333293                      NaN           NaN   \n",
       "4                      81.802464             81033.956906      1.131163   \n",
       "\n",
       "   Expected years of education (galactic years)  \\\n",
       "0                                      8.240543   \n",
       "1                                     10.671823   \n",
       "2                                      8.840316   \n",
       "3                                           NaN   \n",
       "4                                     13.800672   \n",
       "\n",
       "   Mean years of education (galactic years)  \\\n",
       "0                                       NaN   \n",
       "1                                  4.742470   \n",
       "2                                  5.583973   \n",
       "3                                       NaN   \n",
       "4                                 13.188907   \n",
       "\n",
       "   Intergalactic Development Index (IDI)  Education Index  ...  \\\n",
       "0                                    NaN              NaN  ...   \n",
       "1                               0.833624         0.467873  ...   \n",
       "2                               0.469110         0.363837  ...   \n",
       "3                                    NaN              NaN  ...   \n",
       "4                               0.910341         0.918353  ...   \n",
       "\n",
       "   Intergalactic Development Index (IDI), female  \\\n",
       "0                                            NaN   \n",
       "1                                            NaN   \n",
       "2                                            NaN   \n",
       "3                                            NaN   \n",
       "4                                            NaN   \n",
       "\n",
       "   Intergalactic Development Index (IDI), male  \\\n",
       "0                                          NaN   \n",
       "1                                          NaN   \n",
       "2                                          NaN   \n",
       "3                                          NaN   \n",
       "4                                          NaN   \n",
       "\n",
       "   Gender Development Index (GDI)  \\\n",
       "0                             NaN   \n",
       "1                             NaN   \n",
       "2                             NaN   \n",
       "3                             NaN   \n",
       "4                             NaN   \n",
       "\n",
       "   Intergalactic Development Index (IDI), female, Rank  \\\n",
       "0                                                NaN     \n",
       "1                                                NaN     \n",
       "2                                                NaN     \n",
       "3                                                NaN     \n",
       "4                                                NaN     \n",
       "\n",
       "   Intergalactic Development Index (IDI), male, Rank  Adjusted net savings   \\\n",
       "0                                                NaN                    NaN   \n",
       "1                                                NaN              19.177926   \n",
       "2                                                NaN              21.151265   \n",
       "3                                                NaN                    NaN   \n",
       "4                                                NaN                    NaN   \n",
       "\n",
       "   Creature Immunodeficiency Disease prevalence, adult (% ages 15-49), total  \\\n",
       "0                                                NaN                           \n",
       "1                                                NaN                           \n",
       "2                                           6.534020                           \n",
       "3                                           5.912194                           \n",
       "4                                           5.611753                           \n",
       "\n",
       "   Private galaxy capital flows (% of GGP)  Gender Inequality Index (GII)  \\\n",
       "0                                      NaN                            NaN   \n",
       "1                                22.785018                            NaN   \n",
       "2                                      NaN                            NaN   \n",
       "3                                      NaN                            NaN   \n",
       "4                                      NaN                            NaN   \n",
       "\n",
       "          y  \n",
       "0  0.052590  \n",
       "1  0.059868  \n",
       "2  0.050449  \n",
       "3  0.049394  \n",
       "4  0.154247  \n",
       "\n",
       "[5 rows x 80 columns]"
      ]
     },
     "execution_count": 3,
     "metadata": {},
     "output_type": "execute_result"
    }
   ],
   "source": [
    "data.head()"
   ]
  },
  {
   "cell_type": "markdown",
   "metadata": {},
   "source": [
    "# Dealing With Missing Values"
   ]
  },
  {
   "cell_type": "code",
   "execution_count": 4,
   "metadata": {},
   "outputs": [
    {
     "data": {
      "text/plain": [
       "galactic year                                                                   0\n",
       "galaxy                                                                          0\n",
       "existence expectancy index                                                      1\n",
       "existence expectancy at birth                                                   1\n",
       "Gross income per capita                                                        28\n",
       "                                                                             ... \n",
       "Adjusted net savings                                                         2953\n",
       "Creature Immunodeficiency Disease prevalence, adult (% ages 15-49), total    2924\n",
       "Private galaxy capital flows (% of GGP)                                      2991\n",
       "Gender Inequality Index (GII)                                                3021\n",
       "y                                                                               0\n",
       "Length: 80, dtype: int64"
      ]
     },
     "execution_count": 4,
     "metadata": {},
     "output_type": "execute_result"
    }
   ],
   "source": [
    "data.isnull().sum()"
   ]
  },
  {
   "cell_type": "markdown",
   "metadata": {},
   "source": [
    "## Filling with zeros"
   ]
  },
  {
   "cell_type": "code",
   "execution_count": 19,
   "metadata": {},
   "outputs": [],
   "source": [
    "data.fillna(0, inplace=True)"
   ]
  },
  {
   "cell_type": "markdown",
   "metadata": {},
   "source": [
    "## Filling with median"
   ]
  },
  {
   "cell_type": "code",
   "execution_count": null,
   "metadata": {},
   "outputs": [],
   "source": [
    "for col in data.iloc[:, 3:13].columns:\n",
    "    data[col] = data.groupby(\"galaxy\")[col].apply(lambda x: x.fillna(x.median))"
   ]
  },
  {
   "cell_type": "markdown",
   "metadata": {},
   "source": [
    "# Transformation"
   ]
  },
  {
   "cell_type": "code",
   "execution_count": 5,
   "metadata": {},
   "outputs": [],
   "source": [
    "from itertools import combinations\n",
    "from sklearn.preprocessing import MinMaxScaler, OrdinalEncoder, PolynomialFeatures"
   ]
  },
  {
   "cell_type": "markdown",
   "metadata": {},
   "source": [
    "## Categorical Variables"
   ]
  },
  {
   "cell_type": "markdown",
   "metadata": {},
   "source": [
    "### OneHot Encoding"
   ]
  },
  {
   "cell_type": "code",
   "execution_count": 6,
   "metadata": {},
   "outputs": [],
   "source": [
    "galaxy_dummies = pd.get_dummies(data.galaxy, drop_first=True, prefix=\"galaxy\")"
   ]
  },
  {
   "cell_type": "markdown",
   "metadata": {},
   "source": [
    "### Target Encoding "
   ]
  },
  {
   "cell_type": "markdown",
   "metadata": {},
   "source": [
    "## Numeric Variables"
   ]
  },
  {
   "cell_type": "code",
   "execution_count": 7,
   "metadata": {},
   "outputs": [],
   "source": [
    "data.loc[:, \"galactic_year\"] = pd.Series(np.squeeze(OrdinalEncoder().fit_transform(data[\"galactic year\"].to_frame())))"
   ]
  },
  {
   "cell_type": "code",
   "execution_count": 8,
   "metadata": {},
   "outputs": [],
   "source": [
    "data.loc[:, \"galactic year\"] = data.loc[:, \"galactic year\"] - data.loc[:, \"galactic year\"].min()"
   ]
  },
  {
   "cell_type": "markdown",
   "metadata": {},
   "source": [
    "### Interaction Variables"
   ]
  },
  {
   "cell_type": "code",
   "execution_count": 9,
   "metadata": {},
   "outputs": [],
   "source": [
    "special_11_columns_data = data.iloc[:, range(2,13)]"
   ]
  },
  {
   "cell_type": "code",
   "execution_count": 10,
   "metadata": {},
   "outputs": [
    {
     "data": {
      "text/html": [
       "<div>\n",
       "<style scoped>\n",
       "    .dataframe tbody tr th:only-of-type {\n",
       "        vertical-align: middle;\n",
       "    }\n",
       "\n",
       "    .dataframe tbody tr th {\n",
       "        vertical-align: top;\n",
       "    }\n",
       "\n",
       "    .dataframe thead th {\n",
       "        text-align: right;\n",
       "    }\n",
       "</style>\n",
       "<table border=\"1\" class=\"dataframe\">\n",
       "  <thead>\n",
       "    <tr style=\"text-align: right;\">\n",
       "      <th></th>\n",
       "      <th>existence expectancy index</th>\n",
       "      <th>existence expectancy at birth</th>\n",
       "      <th>Gross income per capita</th>\n",
       "      <th>Income Index</th>\n",
       "      <th>Expected years of education (galactic years)</th>\n",
       "      <th>Mean years of education (galactic years)</th>\n",
       "      <th>Intergalactic Development Index (IDI)</th>\n",
       "      <th>Education Index</th>\n",
       "      <th>Intergalactic Development Index (IDI), Rank</th>\n",
       "      <th>Population using at least basic drinking-water services (%)</th>\n",
       "      <th>Population using at least basic sanitation services (%)</th>\n",
       "    </tr>\n",
       "  </thead>\n",
       "  <tbody>\n",
       "    <tr>\n",
       "      <td>count</td>\n",
       "      <td>3864.000000</td>\n",
       "      <td>3864.000000</td>\n",
       "      <td>3837.000000</td>\n",
       "      <td>3837.000000</td>\n",
       "      <td>3732.000000</td>\n",
       "      <td>3502.000000</td>\n",
       "      <td>3474.000000</td>\n",
       "      <td>3474.000000</td>\n",
       "      <td>3432.000000</td>\n",
       "      <td>2021.000000</td>\n",
       "      <td>2015.000000</td>\n",
       "    </tr>\n",
       "    <tr>\n",
       "      <td>mean</td>\n",
       "      <td>0.872479</td>\n",
       "      <td>76.798111</td>\n",
       "      <td>31633.240872</td>\n",
       "      <td>0.825154</td>\n",
       "      <td>14.723296</td>\n",
       "      <td>10.283959</td>\n",
       "      <td>0.804246</td>\n",
       "      <td>0.745900</td>\n",
       "      <td>135.129178</td>\n",
       "      <td>101.892238</td>\n",
       "      <td>99.936784</td>\n",
       "    </tr>\n",
       "    <tr>\n",
       "      <td>std</td>\n",
       "      <td>0.162367</td>\n",
       "      <td>10.461654</td>\n",
       "      <td>18736.378445</td>\n",
       "      <td>0.194055</td>\n",
       "      <td>3.612546</td>\n",
       "      <td>3.319948</td>\n",
       "      <td>0.176242</td>\n",
       "      <td>0.199795</td>\n",
       "      <td>52.449535</td>\n",
       "      <td>20.319860</td>\n",
       "      <td>32.364952</td>\n",
       "    </tr>\n",
       "    <tr>\n",
       "      <td>min</td>\n",
       "      <td>0.227890</td>\n",
       "      <td>34.244062</td>\n",
       "      <td>-126.906522</td>\n",
       "      <td>0.292001</td>\n",
       "      <td>3.799663</td>\n",
       "      <td>1.928166</td>\n",
       "      <td>0.273684</td>\n",
       "      <td>0.189874</td>\n",
       "      <td>9.925906</td>\n",
       "      <td>33.135967</td>\n",
       "      <td>10.609505</td>\n",
       "    </tr>\n",
       "    <tr>\n",
       "      <td>25%</td>\n",
       "      <td>0.763027</td>\n",
       "      <td>69.961449</td>\n",
       "      <td>20169.118912</td>\n",
       "      <td>0.677131</td>\n",
       "      <td>12.592467</td>\n",
       "      <td>7.654169</td>\n",
       "      <td>0.671862</td>\n",
       "      <td>0.597746</td>\n",
       "      <td>92.262724</td>\n",
       "      <td>89.467683</td>\n",
       "      <td>73.450973</td>\n",
       "    </tr>\n",
       "    <tr>\n",
       "      <td>50%</td>\n",
       "      <td>0.907359</td>\n",
       "      <td>78.995101</td>\n",
       "      <td>26600.768195</td>\n",
       "      <td>0.827300</td>\n",
       "      <td>14.942913</td>\n",
       "      <td>10.385465</td>\n",
       "      <td>0.824758</td>\n",
       "      <td>0.761255</td>\n",
       "      <td>135.914318</td>\n",
       "      <td>108.420709</td>\n",
       "      <td>110.268786</td>\n",
       "    </tr>\n",
       "    <tr>\n",
       "      <td>75%</td>\n",
       "      <td>0.992760</td>\n",
       "      <td>84.558971</td>\n",
       "      <td>36898.631754</td>\n",
       "      <td>0.970295</td>\n",
       "      <td>17.123797</td>\n",
       "      <td>12.884752</td>\n",
       "      <td>0.939043</td>\n",
       "      <td>0.893505</td>\n",
       "      <td>175.301993</td>\n",
       "      <td>116.904405</td>\n",
       "      <td>125.643093</td>\n",
       "    </tr>\n",
       "    <tr>\n",
       "      <td>max</td>\n",
       "      <td>1.246908</td>\n",
       "      <td>100.210053</td>\n",
       "      <td>151072.683156</td>\n",
       "      <td>1.361883</td>\n",
       "      <td>26.955944</td>\n",
       "      <td>19.057648</td>\n",
       "      <td>1.232814</td>\n",
       "      <td>1.269625</td>\n",
       "      <td>278.786613</td>\n",
       "      <td>136.321824</td>\n",
       "      <td>161.270978</td>\n",
       "    </tr>\n",
       "  </tbody>\n",
       "</table>\n",
       "</div>"
      ],
      "text/plain": [
       "       existence expectancy index  existence expectancy at birth  \\\n",
       "count                 3864.000000                    3864.000000   \n",
       "mean                     0.872479                      76.798111   \n",
       "std                      0.162367                      10.461654   \n",
       "min                      0.227890                      34.244062   \n",
       "25%                      0.763027                      69.961449   \n",
       "50%                      0.907359                      78.995101   \n",
       "75%                      0.992760                      84.558971   \n",
       "max                      1.246908                     100.210053   \n",
       "\n",
       "       Gross income per capita  Income Index  \\\n",
       "count              3837.000000   3837.000000   \n",
       "mean              31633.240872      0.825154   \n",
       "std               18736.378445      0.194055   \n",
       "min                -126.906522      0.292001   \n",
       "25%               20169.118912      0.677131   \n",
       "50%               26600.768195      0.827300   \n",
       "75%               36898.631754      0.970295   \n",
       "max              151072.683156      1.361883   \n",
       "\n",
       "       Expected years of education (galactic years)  \\\n",
       "count                                   3732.000000   \n",
       "mean                                      14.723296   \n",
       "std                                        3.612546   \n",
       "min                                        3.799663   \n",
       "25%                                       12.592467   \n",
       "50%                                       14.942913   \n",
       "75%                                       17.123797   \n",
       "max                                       26.955944   \n",
       "\n",
       "       Mean years of education (galactic years)  \\\n",
       "count                               3502.000000   \n",
       "mean                                  10.283959   \n",
       "std                                    3.319948   \n",
       "min                                    1.928166   \n",
       "25%                                    7.654169   \n",
       "50%                                   10.385465   \n",
       "75%                                   12.884752   \n",
       "max                                   19.057648   \n",
       "\n",
       "       Intergalactic Development Index (IDI)  Education Index  \\\n",
       "count                            3474.000000      3474.000000   \n",
       "mean                                0.804246         0.745900   \n",
       "std                                 0.176242         0.199795   \n",
       "min                                 0.273684         0.189874   \n",
       "25%                                 0.671862         0.597746   \n",
       "50%                                 0.824758         0.761255   \n",
       "75%                                 0.939043         0.893505   \n",
       "max                                 1.232814         1.269625   \n",
       "\n",
       "       Intergalactic Development Index (IDI), Rank  \\\n",
       "count                                  3432.000000   \n",
       "mean                                    135.129178   \n",
       "std                                      52.449535   \n",
       "min                                       9.925906   \n",
       "25%                                      92.262724   \n",
       "50%                                     135.914318   \n",
       "75%                                     175.301993   \n",
       "max                                     278.786613   \n",
       "\n",
       "       Population using at least basic drinking-water services (%)  \\\n",
       "count                                        2021.000000             \n",
       "mean                                          101.892238             \n",
       "std                                            20.319860             \n",
       "min                                            33.135967             \n",
       "25%                                            89.467683             \n",
       "50%                                           108.420709             \n",
       "75%                                           116.904405             \n",
       "max                                           136.321824             \n",
       "\n",
       "       Population using at least basic sanitation services (%)  \n",
       "count                                        2015.000000        \n",
       "mean                                           99.936784        \n",
       "std                                            32.364952        \n",
       "min                                            10.609505        \n",
       "25%                                            73.450973        \n",
       "50%                                           110.268786        \n",
       "75%                                           125.643093        \n",
       "max                                           161.270978        "
      ]
     },
     "execution_count": 10,
     "metadata": {},
     "output_type": "execute_result"
    }
   ],
   "source": [
    "special_11_columns_data.describe()"
   ]
  },
  {
   "cell_type": "code",
   "execution_count": 11,
   "metadata": {},
   "outputs": [],
   "source": [
    "special_11_columns_data = special_11_columns_data.mask(special_11_columns_data[\"Gross income per capita\"] < 0, np.nan)"
   ]
  },
  {
   "cell_type": "markdown",
   "metadata": {},
   "source": [
    "#### Multiplication"
   ]
  },
  {
   "cell_type": "code",
   "execution_count": 12,
   "metadata": {},
   "outputs": [],
   "source": [
    "interactor = PolynomialFeatures(degree=2, include_bias=True) # interaction_only=False"
   ]
  },
  {
   "cell_type": "code",
   "execution_count": 13,
   "metadata": {},
   "outputs": [],
   "source": [
    "interactions = interactor.fit_transform(special_11_columns_data.fillna(0))\n",
    "interactions = pd.DataFrame(interactions, columns=interactor.get_feature_names(special_11_columns_data.columns.tolist()))"
   ]
  },
  {
   "cell_type": "code",
   "execution_count": 15,
   "metadata": {},
   "outputs": [],
   "source": [
    "# drop the special 11 columns since they are in data \n",
    "interactions.drop(special_11_columns_data.columns.tolist(), axis=1, inplace=True)"
   ]
  },
  {
   "cell_type": "markdown",
   "metadata": {},
   "source": [
    "#### Division"
   ]
  },
  {
   "cell_type": "code",
   "execution_count": 17,
   "metadata": {},
   "outputs": [],
   "source": [
    "# divide pairs of columns of the special 11\n",
    "for (column_1, column_2) in combinations(special_11_columns_data.columns.tolist(), 2):\n",
    "    interactions.loc[:, column_1 + \"_div_\" + column_2] = data[column_1] / (data[column_2]) "
   ]
  },
  {
   "cell_type": "code",
   "execution_count": 14,
   "metadata": {},
   "outputs": [
    {
     "data": {
      "text/html": [
       "<div>\n",
       "<style scoped>\n",
       "    .dataframe tbody tr th:only-of-type {\n",
       "        vertical-align: middle;\n",
       "    }\n",
       "\n",
       "    .dataframe tbody tr th {\n",
       "        vertical-align: top;\n",
       "    }\n",
       "\n",
       "    .dataframe thead th {\n",
       "        text-align: right;\n",
       "    }\n",
       "</style>\n",
       "<table border=\"1\" class=\"dataframe\">\n",
       "  <thead>\n",
       "    <tr style=\"text-align: right;\">\n",
       "      <th></th>\n",
       "      <th>1</th>\n",
       "      <th>existence expectancy index</th>\n",
       "      <th>existence expectancy at birth</th>\n",
       "      <th>Gross income per capita</th>\n",
       "      <th>Income Index</th>\n",
       "      <th>Expected years of education (galactic years)</th>\n",
       "      <th>Mean years of education (galactic years)</th>\n",
       "      <th>Intergalactic Development Index (IDI)</th>\n",
       "      <th>Education Index</th>\n",
       "      <th>Intergalactic Development Index (IDI), Rank</th>\n",
       "      <th>...</th>\n",
       "      <th>Education Index^2</th>\n",
       "      <th>Education Index Intergalactic Development Index (IDI), Rank</th>\n",
       "      <th>Education Index Population using at least basic drinking-water services (%)</th>\n",
       "      <th>Education Index Population using at least basic sanitation services (%)</th>\n",
       "      <th>Intergalactic Development Index (IDI), Rank^2</th>\n",
       "      <th>Intergalactic Development Index (IDI), Rank Population using at least basic drinking-water services (%)</th>\n",
       "      <th>Intergalactic Development Index (IDI), Rank Population using at least basic sanitation services (%)</th>\n",
       "      <th>Population using at least basic drinking-water services (%)^2</th>\n",
       "      <th>Population using at least basic drinking-water services (%) Population using at least basic sanitation services (%)</th>\n",
       "      <th>Population using at least basic sanitation services (%)^2</th>\n",
       "    </tr>\n",
       "  </thead>\n",
       "  <tbody>\n",
       "    <tr>\n",
       "      <td>0</td>\n",
       "      <td>1.0</td>\n",
       "      <td>0.628657</td>\n",
       "      <td>63.125200</td>\n",
       "      <td>27109.234310</td>\n",
       "      <td>0.646039</td>\n",
       "      <td>8.240543</td>\n",
       "      <td>0.000000</td>\n",
       "      <td>0.000000</td>\n",
       "      <td>0.000000</td>\n",
       "      <td>0.000000</td>\n",
       "      <td>...</td>\n",
       "      <td>0.000000</td>\n",
       "      <td>0.000000</td>\n",
       "      <td>0.0</td>\n",
       "      <td>0.0</td>\n",
       "      <td>0.000000</td>\n",
       "      <td>0.0</td>\n",
       "      <td>0.0</td>\n",
       "      <td>0.0</td>\n",
       "      <td>0.0</td>\n",
       "      <td>0.0</td>\n",
       "    </tr>\n",
       "    <tr>\n",
       "      <td>1</td>\n",
       "      <td>1.0</td>\n",
       "      <td>0.818082</td>\n",
       "      <td>81.004994</td>\n",
       "      <td>30166.793958</td>\n",
       "      <td>0.852246</td>\n",
       "      <td>10.671823</td>\n",
       "      <td>4.742470</td>\n",
       "      <td>0.833624</td>\n",
       "      <td>0.467873</td>\n",
       "      <td>152.522198</td>\n",
       "      <td>...</td>\n",
       "      <td>0.218905</td>\n",
       "      <td>71.361005</td>\n",
       "      <td>0.0</td>\n",
       "      <td>0.0</td>\n",
       "      <td>23263.020905</td>\n",
       "      <td>0.0</td>\n",
       "      <td>0.0</td>\n",
       "      <td>0.0</td>\n",
       "      <td>0.0</td>\n",
       "      <td>0.0</td>\n",
       "    </tr>\n",
       "    <tr>\n",
       "      <td>2</td>\n",
       "      <td>1.0</td>\n",
       "      <td>0.659443</td>\n",
       "      <td>59.570534</td>\n",
       "      <td>8441.707353</td>\n",
       "      <td>0.499762</td>\n",
       "      <td>8.840316</td>\n",
       "      <td>5.583973</td>\n",
       "      <td>0.469110</td>\n",
       "      <td>0.363837</td>\n",
       "      <td>209.813266</td>\n",
       "      <td>...</td>\n",
       "      <td>0.132378</td>\n",
       "      <td>76.337875</td>\n",
       "      <td>0.0</td>\n",
       "      <td>0.0</td>\n",
       "      <td>44021.606749</td>\n",
       "      <td>0.0</td>\n",
       "      <td>0.0</td>\n",
       "      <td>0.0</td>\n",
       "      <td>0.0</td>\n",
       "      <td>0.0</td>\n",
       "    </tr>\n",
       "    <tr>\n",
       "      <td>3</td>\n",
       "      <td>1.0</td>\n",
       "      <td>0.555862</td>\n",
       "      <td>52.333293</td>\n",
       "      <td>0.000000</td>\n",
       "      <td>0.000000</td>\n",
       "      <td>0.000000</td>\n",
       "      <td>0.000000</td>\n",
       "      <td>0.000000</td>\n",
       "      <td>0.000000</td>\n",
       "      <td>0.000000</td>\n",
       "      <td>...</td>\n",
       "      <td>0.000000</td>\n",
       "      <td>0.000000</td>\n",
       "      <td>0.0</td>\n",
       "      <td>0.0</td>\n",
       "      <td>0.000000</td>\n",
       "      <td>0.0</td>\n",
       "      <td>0.0</td>\n",
       "      <td>0.0</td>\n",
       "      <td>0.0</td>\n",
       "      <td>0.0</td>\n",
       "    </tr>\n",
       "    <tr>\n",
       "      <td>4</td>\n",
       "      <td>1.0</td>\n",
       "      <td>0.991196</td>\n",
       "      <td>81.802464</td>\n",
       "      <td>81033.956906</td>\n",
       "      <td>1.131163</td>\n",
       "      <td>13.800672</td>\n",
       "      <td>13.188907</td>\n",
       "      <td>0.910341</td>\n",
       "      <td>0.918353</td>\n",
       "      <td>71.885345</td>\n",
       "      <td>...</td>\n",
       "      <td>0.843373</td>\n",
       "      <td>66.016136</td>\n",
       "      <td>0.0</td>\n",
       "      <td>0.0</td>\n",
       "      <td>5167.502839</td>\n",
       "      <td>0.0</td>\n",
       "      <td>0.0</td>\n",
       "      <td>0.0</td>\n",
       "      <td>0.0</td>\n",
       "      <td>0.0</td>\n",
       "    </tr>\n",
       "  </tbody>\n",
       "</table>\n",
       "<p>5 rows × 78 columns</p>\n",
       "</div>"
      ],
      "text/plain": [
       "     1  existence expectancy index  existence expectancy at birth  \\\n",
       "0  1.0                    0.628657                      63.125200   \n",
       "1  1.0                    0.818082                      81.004994   \n",
       "2  1.0                    0.659443                      59.570534   \n",
       "3  1.0                    0.555862                      52.333293   \n",
       "4  1.0                    0.991196                      81.802464   \n",
       "\n",
       "   Gross income per capita  Income Index  \\\n",
       "0             27109.234310      0.646039   \n",
       "1             30166.793958      0.852246   \n",
       "2              8441.707353      0.499762   \n",
       "3                 0.000000      0.000000   \n",
       "4             81033.956906      1.131163   \n",
       "\n",
       "   Expected years of education (galactic years)  \\\n",
       "0                                      8.240543   \n",
       "1                                     10.671823   \n",
       "2                                      8.840316   \n",
       "3                                      0.000000   \n",
       "4                                     13.800672   \n",
       "\n",
       "   Mean years of education (galactic years)  \\\n",
       "0                                  0.000000   \n",
       "1                                  4.742470   \n",
       "2                                  5.583973   \n",
       "3                                  0.000000   \n",
       "4                                 13.188907   \n",
       "\n",
       "   Intergalactic Development Index (IDI)  Education Index  \\\n",
       "0                               0.000000         0.000000   \n",
       "1                               0.833624         0.467873   \n",
       "2                               0.469110         0.363837   \n",
       "3                               0.000000         0.000000   \n",
       "4                               0.910341         0.918353   \n",
       "\n",
       "   Intergalactic Development Index (IDI), Rank  ...  Education Index^2  \\\n",
       "0                                     0.000000  ...           0.000000   \n",
       "1                                   152.522198  ...           0.218905   \n",
       "2                                   209.813266  ...           0.132378   \n",
       "3                                     0.000000  ...           0.000000   \n",
       "4                                    71.885345  ...           0.843373   \n",
       "\n",
       "   Education Index Intergalactic Development Index (IDI), Rank  \\\n",
       "0                                           0.000000             \n",
       "1                                          71.361005             \n",
       "2                                          76.337875             \n",
       "3                                           0.000000             \n",
       "4                                          66.016136             \n",
       "\n",
       "   Education Index Population using at least basic drinking-water services (%)  \\\n",
       "0                                                0.0                             \n",
       "1                                                0.0                             \n",
       "2                                                0.0                             \n",
       "3                                                0.0                             \n",
       "4                                                0.0                             \n",
       "\n",
       "   Education Index Population using at least basic sanitation services (%)  \\\n",
       "0                                                0.0                         \n",
       "1                                                0.0                         \n",
       "2                                                0.0                         \n",
       "3                                                0.0                         \n",
       "4                                                0.0                         \n",
       "\n",
       "   Intergalactic Development Index (IDI), Rank^2  \\\n",
       "0                                       0.000000   \n",
       "1                                   23263.020905   \n",
       "2                                   44021.606749   \n",
       "3                                       0.000000   \n",
       "4                                    5167.502839   \n",
       "\n",
       "   Intergalactic Development Index (IDI), Rank Population using at least basic drinking-water services (%)  \\\n",
       "0                                                0.0                                                         \n",
       "1                                                0.0                                                         \n",
       "2                                                0.0                                                         \n",
       "3                                                0.0                                                         \n",
       "4                                                0.0                                                         \n",
       "\n",
       "   Intergalactic Development Index (IDI), Rank Population using at least basic sanitation services (%)  \\\n",
       "0                                                0.0                                                     \n",
       "1                                                0.0                                                     \n",
       "2                                                0.0                                                     \n",
       "3                                                0.0                                                     \n",
       "4                                                0.0                                                     \n",
       "\n",
       "   Population using at least basic drinking-water services (%)^2  \\\n",
       "0                                                0.0               \n",
       "1                                                0.0               \n",
       "2                                                0.0               \n",
       "3                                                0.0               \n",
       "4                                                0.0               \n",
       "\n",
       "   Population using at least basic drinking-water services (%) Population using at least basic sanitation services (%)  \\\n",
       "0                                                0.0                                                                     \n",
       "1                                                0.0                                                                     \n",
       "2                                                0.0                                                                     \n",
       "3                                                0.0                                                                     \n",
       "4                                                0.0                                                                     \n",
       "\n",
       "   Population using at least basic sanitation services (%)^2  \n",
       "0                                                0.0          \n",
       "1                                                0.0          \n",
       "2                                                0.0          \n",
       "3                                                0.0          \n",
       "4                                                0.0          \n",
       "\n",
       "[5 rows x 78 columns]"
      ]
     },
     "execution_count": 14,
     "metadata": {},
     "output_type": "execute_result"
    }
   ],
   "source": [
    "interactions.head()"
   ]
  },
  {
   "cell_type": "markdown",
   "metadata": {},
   "source": [
    "#### Concat with data"
   ]
  },
  {
   "cell_type": "code",
   "execution_count": null,
   "metadata": {},
   "outputs": [],
   "source": [
    "# concat data & interactions\n",
    "data = pd.concat([interactions, data], axis=1)"
   ]
  },
  {
   "cell_type": "markdown",
   "metadata": {},
   "source": [
    "### MinMax Scaling"
   ]
  },
  {
   "cell_type": "code",
   "execution_count": 20,
   "metadata": {},
   "outputs": [],
   "source": [
    "scaler = MinMaxScaler()"
   ]
  },
  {
   "cell_type": "code",
   "execution_count": 23,
   "metadata": {},
   "outputs": [],
   "source": [
    "data_scaled = scaler.fit_transform(data.drop([\"galactic_year\", \"galaxy\"], axis=1))"
   ]
  },
  {
   "cell_type": "code",
   "execution_count": 24,
   "metadata": {},
   "outputs": [],
   "source": [
    "data_columns = data.columns.tolist()\n",
    "data_columns.remove(\"galactic_year\")\n",
    "data_columns.remove(\"galaxy\")"
   ]
  },
  {
   "cell_type": "code",
   "execution_count": 26,
   "metadata": {},
   "outputs": [],
   "source": [
    "data_scaled = pd.DataFrame(data_scaled, columns=data_columns) # data.columns or k"
   ]
  },
  {
   "cell_type": "code",
   "execution_count": 27,
   "metadata": {},
   "outputs": [],
   "source": [
    "data_scaled[\"galactic_year\"] = data[\"galactic_year\"]"
   ]
  },
  {
   "cell_type": "code",
   "execution_count": 28,
   "metadata": {},
   "outputs": [
    {
     "data": {
      "text/html": [
       "<div>\n",
       "<style scoped>\n",
       "    .dataframe tbody tr th:only-of-type {\n",
       "        vertical-align: middle;\n",
       "    }\n",
       "\n",
       "    .dataframe tbody tr th {\n",
       "        vertical-align: top;\n",
       "    }\n",
       "\n",
       "    .dataframe thead th {\n",
       "        text-align: right;\n",
       "    }\n",
       "</style>\n",
       "<table border=\"1\" class=\"dataframe\">\n",
       "  <thead>\n",
       "    <tr style=\"text-align: right;\">\n",
       "      <th></th>\n",
       "      <th>1</th>\n",
       "      <th>existence expectancy index^2</th>\n",
       "      <th>existence expectancy index existence expectancy at birth</th>\n",
       "      <th>existence expectancy index Gross income per capita</th>\n",
       "      <th>existence expectancy index Income Index</th>\n",
       "      <th>existence expectancy index Expected years of education (galactic years)</th>\n",
       "      <th>existence expectancy index Mean years of education (galactic years)</th>\n",
       "      <th>existence expectancy index Intergalactic Development Index (IDI)</th>\n",
       "      <th>existence expectancy index Education Index</th>\n",
       "      <th>existence expectancy index Intergalactic Development Index (IDI), Rank</th>\n",
       "      <th>...</th>\n",
       "      <th>Intergalactic Development Index (IDI)_div_Intergalactic Development Index (IDI), Rank</th>\n",
       "      <th>Intergalactic Development Index (IDI)_div_Population using at least basic drinking-water services (%)</th>\n",
       "      <th>Intergalactic Development Index (IDI)_div_Population using at least basic sanitation services (%)</th>\n",
       "      <th>Education Index_div_Intergalactic Development Index (IDI), Rank</th>\n",
       "      <th>Education Index_div_Population using at least basic drinking-water services (%)</th>\n",
       "      <th>Education Index_div_Population using at least basic sanitation services (%)</th>\n",
       "      <th>Intergalactic Development Index (IDI), Rank_div_Population using at least basic drinking-water services (%)</th>\n",
       "      <th>Intergalactic Development Index (IDI), Rank_div_Population using at least basic sanitation services (%)</th>\n",
       "      <th>Population using at least basic drinking-water services (%)_div_Population using at least basic sanitation services (%)</th>\n",
       "      <th>galactic_year</th>\n",
       "    </tr>\n",
       "  </thead>\n",
       "  <tbody>\n",
       "    <tr>\n",
       "      <td>count</td>\n",
       "      <td>3865.0</td>\n",
       "      <td>3865.000000</td>\n",
       "      <td>3865.000000</td>\n",
       "      <td>3865.000000</td>\n",
       "      <td>3865.000000</td>\n",
       "      <td>3865.000000</td>\n",
       "      <td>3865.000000</td>\n",
       "      <td>3865.000000</td>\n",
       "      <td>3865.000000</td>\n",
       "      <td>3865.000000</td>\n",
       "      <td>...</td>\n",
       "      <td>3865.000000</td>\n",
       "      <td>3865.000000</td>\n",
       "      <td>3865.000000</td>\n",
       "      <td>3865.000000</td>\n",
       "      <td>3865.000000</td>\n",
       "      <td>3865.000000</td>\n",
       "      <td>3865.000000</td>\n",
       "      <td>3865.000000</td>\n",
       "      <td>3865.000000</td>\n",
       "      <td>3865.000000</td>\n",
       "    </tr>\n",
       "    <tr>\n",
       "      <td>mean</td>\n",
       "      <td>0.0</td>\n",
       "      <td>0.506302</td>\n",
       "      <td>0.595994</td>\n",
       "      <td>0.176520</td>\n",
       "      <td>0.507276</td>\n",
       "      <td>0.428442</td>\n",
       "      <td>0.401934</td>\n",
       "      <td>0.486432</td>\n",
       "      <td>0.427312</td>\n",
       "      <td>0.446842</td>\n",
       "      <td>...</td>\n",
       "      <td>0.071269</td>\n",
       "      <td>0.267046</td>\n",
       "      <td>0.117173</td>\n",
       "      <td>0.066952</td>\n",
       "      <td>0.272317</td>\n",
       "      <td>0.091100</td>\n",
       "      <td>0.108439</td>\n",
       "      <td>0.049856</td>\n",
       "      <td>0.088463</td>\n",
       "      <td>10.697025</td>\n",
       "    </tr>\n",
       "    <tr>\n",
       "      <td>std</td>\n",
       "      <td>0.0</td>\n",
       "      <td>0.173296</td>\n",
       "      <td>0.175324</td>\n",
       "      <td>0.127180</td>\n",
       "      <td>0.193947</td>\n",
       "      <td>0.183385</td>\n",
       "      <td>0.225458</td>\n",
       "      <td>0.245254</td>\n",
       "      <td>0.227687</td>\n",
       "      <td>0.217017</td>\n",
       "      <td>...</td>\n",
       "      <td>0.066660</td>\n",
       "      <td>0.266146</td>\n",
       "      <td>0.127137</td>\n",
       "      <td>0.065654</td>\n",
       "      <td>0.274637</td>\n",
       "      <td>0.099978</td>\n",
       "      <td>0.142715</td>\n",
       "      <td>0.078132</td>\n",
       "      <td>0.096494</td>\n",
       "      <td>6.939479</td>\n",
       "    </tr>\n",
       "    <tr>\n",
       "      <td>min</td>\n",
       "      <td>0.0</td>\n",
       "      <td>0.000000</td>\n",
       "      <td>0.000000</td>\n",
       "      <td>0.000000</td>\n",
       "      <td>0.000000</td>\n",
       "      <td>0.000000</td>\n",
       "      <td>0.000000</td>\n",
       "      <td>0.000000</td>\n",
       "      <td>0.000000</td>\n",
       "      <td>0.000000</td>\n",
       "      <td>...</td>\n",
       "      <td>0.000000</td>\n",
       "      <td>0.000000</td>\n",
       "      <td>0.000000</td>\n",
       "      <td>0.000000</td>\n",
       "      <td>0.000000</td>\n",
       "      <td>0.000000</td>\n",
       "      <td>0.000000</td>\n",
       "      <td>0.000000</td>\n",
       "      <td>0.000000</td>\n",
       "      <td>0.000000</td>\n",
       "    </tr>\n",
       "    <tr>\n",
       "      <td>25%</td>\n",
       "      <td>0.0</td>\n",
       "      <td>0.374022</td>\n",
       "      <td>0.464828</td>\n",
       "      <td>0.092800</td>\n",
       "      <td>0.355364</td>\n",
       "      <td>0.298420</td>\n",
       "      <td>0.226959</td>\n",
       "      <td>0.315254</td>\n",
       "      <td>0.261603</td>\n",
       "      <td>0.338662</td>\n",
       "      <td>...</td>\n",
       "      <td>0.031735</td>\n",
       "      <td>0.000000</td>\n",
       "      <td>0.000000</td>\n",
       "      <td>0.027942</td>\n",
       "      <td>0.000000</td>\n",
       "      <td>0.000000</td>\n",
       "      <td>0.000000</td>\n",
       "      <td>0.000000</td>\n",
       "      <td>0.000000</td>\n",
       "      <td>5.000000</td>\n",
       "    </tr>\n",
       "    <tr>\n",
       "      <td>50%</td>\n",
       "      <td>0.0</td>\n",
       "      <td>0.529527</td>\n",
       "      <td>0.624751</td>\n",
       "      <td>0.138662</td>\n",
       "      <td>0.506688</td>\n",
       "      <td>0.443193</td>\n",
       "      <td>0.416976</td>\n",
       "      <td>0.529649</td>\n",
       "      <td>0.459506</td>\n",
       "      <td>0.474875</td>\n",
       "      <td>...</td>\n",
       "      <td>0.055152</td>\n",
       "      <td>0.376372</td>\n",
       "      <td>0.150725</td>\n",
       "      <td>0.050919</td>\n",
       "      <td>0.332889</td>\n",
       "      <td>0.108100</td>\n",
       "      <td>0.045505</td>\n",
       "      <td>0.015073</td>\n",
       "      <td>0.115750</td>\n",
       "      <td>10.000000</td>\n",
       "    </tr>\n",
       "    <tr>\n",
       "      <td>75%</td>\n",
       "      <td>0.0</td>\n",
       "      <td>0.633825</td>\n",
       "      <td>0.726850</td>\n",
       "      <td>0.214321</td>\n",
       "      <td>0.652391</td>\n",
       "      <td>0.552977</td>\n",
       "      <td>0.573444</td>\n",
       "      <td>0.669927</td>\n",
       "      <td>0.590402</td>\n",
       "      <td>0.601756</td>\n",
       "      <td>...</td>\n",
       "      <td>0.094948</td>\n",
       "      <td>0.515806</td>\n",
       "      <td>0.208190</td>\n",
       "      <td>0.088268</td>\n",
       "      <td>0.531315</td>\n",
       "      <td>0.163126</td>\n",
       "      <td>0.180364</td>\n",
       "      <td>0.067246</td>\n",
       "      <td>0.153354</td>\n",
       "      <td>16.000000</td>\n",
       "    </tr>\n",
       "    <tr>\n",
       "      <td>max</td>\n",
       "      <td>0.0</td>\n",
       "      <td>1.000000</td>\n",
       "      <td>1.000000</td>\n",
       "      <td>1.000000</td>\n",
       "      <td>1.000000</td>\n",
       "      <td>1.000000</td>\n",
       "      <td>1.000000</td>\n",
       "      <td>1.000000</td>\n",
       "      <td>1.000000</td>\n",
       "      <td>1.000000</td>\n",
       "      <td>...</td>\n",
       "      <td>1.000000</td>\n",
       "      <td>1.000000</td>\n",
       "      <td>1.000000</td>\n",
       "      <td>1.000000</td>\n",
       "      <td>1.000000</td>\n",
       "      <td>1.000000</td>\n",
       "      <td>1.000000</td>\n",
       "      <td>1.000000</td>\n",
       "      <td>1.000000</td>\n",
       "      <td>25.000000</td>\n",
       "    </tr>\n",
       "  </tbody>\n",
       "</table>\n",
       "<p>8 rows × 202 columns</p>\n",
       "</div>"
      ],
      "text/plain": [
       "            1  existence expectancy index^2  \\\n",
       "count  3865.0                   3865.000000   \n",
       "mean      0.0                      0.506302   \n",
       "std       0.0                      0.173296   \n",
       "min       0.0                      0.000000   \n",
       "25%       0.0                      0.374022   \n",
       "50%       0.0                      0.529527   \n",
       "75%       0.0                      0.633825   \n",
       "max       0.0                      1.000000   \n",
       "\n",
       "       existence expectancy index existence expectancy at birth  \\\n",
       "count                                        3865.000000          \n",
       "mean                                            0.595994          \n",
       "std                                             0.175324          \n",
       "min                                             0.000000          \n",
       "25%                                             0.464828          \n",
       "50%                                             0.624751          \n",
       "75%                                             0.726850          \n",
       "max                                             1.000000          \n",
       "\n",
       "       existence expectancy index Gross income per capita  \\\n",
       "count                                        3865.000000    \n",
       "mean                                            0.176520    \n",
       "std                                             0.127180    \n",
       "min                                             0.000000    \n",
       "25%                                             0.092800    \n",
       "50%                                             0.138662    \n",
       "75%                                             0.214321    \n",
       "max                                             1.000000    \n",
       "\n",
       "       existence expectancy index Income Index  \\\n",
       "count                              3865.000000   \n",
       "mean                                  0.507276   \n",
       "std                                   0.193947   \n",
       "min                                   0.000000   \n",
       "25%                                   0.355364   \n",
       "50%                                   0.506688   \n",
       "75%                                   0.652391   \n",
       "max                                   1.000000   \n",
       "\n",
       "       existence expectancy index Expected years of education (galactic years)  \\\n",
       "count                                        3865.000000                         \n",
       "mean                                            0.428442                         \n",
       "std                                             0.183385                         \n",
       "min                                             0.000000                         \n",
       "25%                                             0.298420                         \n",
       "50%                                             0.443193                         \n",
       "75%                                             0.552977                         \n",
       "max                                             1.000000                         \n",
       "\n",
       "       existence expectancy index Mean years of education (galactic years)  \\\n",
       "count                                        3865.000000                     \n",
       "mean                                            0.401934                     \n",
       "std                                             0.225458                     \n",
       "min                                             0.000000                     \n",
       "25%                                             0.226959                     \n",
       "50%                                             0.416976                     \n",
       "75%                                             0.573444                     \n",
       "max                                             1.000000                     \n",
       "\n",
       "       existence expectancy index Intergalactic Development Index (IDI)  \\\n",
       "count                                        3865.000000                  \n",
       "mean                                            0.486432                  \n",
       "std                                             0.245254                  \n",
       "min                                             0.000000                  \n",
       "25%                                             0.315254                  \n",
       "50%                                             0.529649                  \n",
       "75%                                             0.669927                  \n",
       "max                                             1.000000                  \n",
       "\n",
       "       existence expectancy index Education Index  \\\n",
       "count                                 3865.000000   \n",
       "mean                                     0.427312   \n",
       "std                                      0.227687   \n",
       "min                                      0.000000   \n",
       "25%                                      0.261603   \n",
       "50%                                      0.459506   \n",
       "75%                                      0.590402   \n",
       "max                                      1.000000   \n",
       "\n",
       "       existence expectancy index Intergalactic Development Index (IDI), Rank  \\\n",
       "count                                        3865.000000                        \n",
       "mean                                            0.446842                        \n",
       "std                                             0.217017                        \n",
       "min                                             0.000000                        \n",
       "25%                                             0.338662                        \n",
       "50%                                             0.474875                        \n",
       "75%                                             0.601756                        \n",
       "max                                             1.000000                        \n",
       "\n",
       "       ...  \\\n",
       "count  ...   \n",
       "mean   ...   \n",
       "std    ...   \n",
       "min    ...   \n",
       "25%    ...   \n",
       "50%    ...   \n",
       "75%    ...   \n",
       "max    ...   \n",
       "\n",
       "       Intergalactic Development Index (IDI)_div_Intergalactic Development Index (IDI), Rank  \\\n",
       "count                                        3865.000000                                       \n",
       "mean                                            0.071269                                       \n",
       "std                                             0.066660                                       \n",
       "min                                             0.000000                                       \n",
       "25%                                             0.031735                                       \n",
       "50%                                             0.055152                                       \n",
       "75%                                             0.094948                                       \n",
       "max                                             1.000000                                       \n",
       "\n",
       "       Intergalactic Development Index (IDI)_div_Population using at least basic drinking-water services (%)  \\\n",
       "count                                        3865.000000                                                       \n",
       "mean                                            0.267046                                                       \n",
       "std                                             0.266146                                                       \n",
       "min                                             0.000000                                                       \n",
       "25%                                             0.000000                                                       \n",
       "50%                                             0.376372                                                       \n",
       "75%                                             0.515806                                                       \n",
       "max                                             1.000000                                                       \n",
       "\n",
       "       Intergalactic Development Index (IDI)_div_Population using at least basic sanitation services (%)  \\\n",
       "count                                        3865.000000                                                   \n",
       "mean                                            0.117173                                                   \n",
       "std                                             0.127137                                                   \n",
       "min                                             0.000000                                                   \n",
       "25%                                             0.000000                                                   \n",
       "50%                                             0.150725                                                   \n",
       "75%                                             0.208190                                                   \n",
       "max                                             1.000000                                                   \n",
       "\n",
       "       Education Index_div_Intergalactic Development Index (IDI), Rank  \\\n",
       "count                                        3865.000000                 \n",
       "mean                                            0.066952                 \n",
       "std                                             0.065654                 \n",
       "min                                             0.000000                 \n",
       "25%                                             0.027942                 \n",
       "50%                                             0.050919                 \n",
       "75%                                             0.088268                 \n",
       "max                                             1.000000                 \n",
       "\n",
       "       Education Index_div_Population using at least basic drinking-water services (%)  \\\n",
       "count                                        3865.000000                                 \n",
       "mean                                            0.272317                                 \n",
       "std                                             0.274637                                 \n",
       "min                                             0.000000                                 \n",
       "25%                                             0.000000                                 \n",
       "50%                                             0.332889                                 \n",
       "75%                                             0.531315                                 \n",
       "max                                             1.000000                                 \n",
       "\n",
       "       Education Index_div_Population using at least basic sanitation services (%)  \\\n",
       "count                                        3865.000000                             \n",
       "mean                                            0.091100                             \n",
       "std                                             0.099978                             \n",
       "min                                             0.000000                             \n",
       "25%                                             0.000000                             \n",
       "50%                                             0.108100                             \n",
       "75%                                             0.163126                             \n",
       "max                                             1.000000                             \n",
       "\n",
       "       Intergalactic Development Index (IDI), Rank_div_Population using at least basic drinking-water services (%)  \\\n",
       "count                                        3865.000000                                                             \n",
       "mean                                            0.108439                                                             \n",
       "std                                             0.142715                                                             \n",
       "min                                             0.000000                                                             \n",
       "25%                                             0.000000                                                             \n",
       "50%                                             0.045505                                                             \n",
       "75%                                             0.180364                                                             \n",
       "max                                             1.000000                                                             \n",
       "\n",
       "       Intergalactic Development Index (IDI), Rank_div_Population using at least basic sanitation services (%)  \\\n",
       "count                                        3865.000000                                                         \n",
       "mean                                            0.049856                                                         \n",
       "std                                             0.078132                                                         \n",
       "min                                             0.000000                                                         \n",
       "25%                                             0.000000                                                         \n",
       "50%                                             0.015073                                                         \n",
       "75%                                             0.067246                                                         \n",
       "max                                             1.000000                                                         \n",
       "\n",
       "       Population using at least basic drinking-water services (%)_div_Population using at least basic sanitation services (%)  \\\n",
       "count                                        3865.000000                                                                         \n",
       "mean                                            0.088463                                                                         \n",
       "std                                             0.096494                                                                         \n",
       "min                                             0.000000                                                                         \n",
       "25%                                             0.000000                                                                         \n",
       "50%                                             0.115750                                                                         \n",
       "75%                                             0.153354                                                                         \n",
       "max                                             1.000000                                                                         \n",
       "\n",
       "       galactic_year  \n",
       "count    3865.000000  \n",
       "mean       10.697025  \n",
       "std         6.939479  \n",
       "min         0.000000  \n",
       "25%         5.000000  \n",
       "50%        10.000000  \n",
       "75%        16.000000  \n",
       "max        25.000000  \n",
       "\n",
       "[8 rows x 202 columns]"
      ]
     },
     "execution_count": 28,
     "metadata": {},
     "output_type": "execute_result"
    }
   ],
   "source": [
    "data_scaled.describe()"
   ]
  },
  {
   "cell_type": "code",
   "execution_count": 29,
   "metadata": {},
   "outputs": [],
   "source": [
    "data_scaled = pd.concat([galaxy_dummies, data_scaled], axis=1)"
   ]
  },
  {
   "cell_type": "code",
   "execution_count": 31,
   "metadata": {},
   "outputs": [
    {
     "data": {
      "text/plain": [
       "0"
      ]
     },
     "execution_count": 31,
     "metadata": {},
     "output_type": "execute_result"
    }
   ],
   "source": [
    "# check that there is no missing values\n",
    "data_scaled.isnull().sum().sum()  "
   ]
  },
  {
   "cell_type": "markdown",
   "metadata": {},
   "source": [
    "# Feature Selection"
   ]
  },
  {
   "cell_type": "markdown",
   "metadata": {},
   "source": [
    "## Correlation"
   ]
  },
  {
   "cell_type": "markdown",
   "metadata": {},
   "source": [
    "### Pairwise"
   ]
  },
  {
   "cell_type": "code",
   "execution_count": null,
   "metadata": {},
   "outputs": [],
   "source": [
    "corrmat = abs(data.corr())\n",
    "sns.heatmap(corrmat)"
   ]
  },
  {
   "cell_type": "markdown",
   "metadata": {},
   "source": [
    "### With Target"
   ]
  },
  {
   "cell_type": "code",
   "execution_count": null,
   "metadata": {},
   "outputs": [],
   "source": [
    "data.corrwith()"
   ]
  },
  {
   "cell_type": "markdown",
   "metadata": {},
   "source": [
    "## Recursive Feature Elimination"
   ]
  },
  {
   "cell_type": "markdown",
   "metadata": {},
   "source": [
    "# Train-Test Split"
   ]
  },
  {
   "cell_type": "code",
   "execution_count": 32,
   "metadata": {},
   "outputs": [],
   "source": [
    "from sklearn.model_selection import train_test_split"
   ]
  },
  {
   "cell_type": "code",
   "execution_count": 33,
   "metadata": {},
   "outputs": [],
   "source": [
    "X_train, X_test, ytrain, ytest = train_test_split(data_scaled.drop('y', axis=1), data.y)"
   ]
  },
  {
   "cell_type": "code",
   "execution_count": 34,
   "metadata": {},
   "outputs": [],
   "source": [
    "X_train_order = X_train.pop(\"galactic_year\")\n",
    "X_test_order = X_test.pop(\"galactic_year\")"
   ]
  },
  {
   "cell_type": "code",
   "execution_count": 35,
   "metadata": {},
   "outputs": [
    {
     "data": {
      "text/plain": [
       "(2898, 380)"
      ]
     },
     "execution_count": 35,
     "metadata": {},
     "output_type": "execute_result"
    }
   ],
   "source": [
    "X_train.shape"
   ]
  },
  {
   "cell_type": "markdown",
   "metadata": {},
   "source": [
    "# Model Fitting"
   ]
  },
  {
   "cell_type": "code",
   "execution_count": 123,
   "metadata": {},
   "outputs": [],
   "source": [
    "from sklearn.linear_model import LinearRegression, ElasticNet\n",
    "from sklearn.model_selection import cross_val_score\n",
    "from sklearn.svm import SVR\n",
    "from xgboost import XGBRegressor"
   ]
  },
  {
   "cell_type": "markdown",
   "metadata": {},
   "source": [
    "## ElasticNet"
   ]
  },
  {
   "cell_type": "code",
   "execution_count": 99,
   "metadata": {},
   "outputs": [],
   "source": [
    "elast = ElasticNet(alpha=0.5, l1_ratio=0.01, fit_intercept=True).fit(X_train, ytrain)"
   ]
  },
  {
   "cell_type": "code",
   "execution_count": 100,
   "metadata": {},
   "outputs": [],
   "source": [
    "ypred_elast = elast.predict(X_test)"
   ]
  },
  {
   "cell_type": "code",
   "execution_count": 101,
   "metadata": {
    "scrolled": true
   },
   "outputs": [
    {
     "data": {
      "text/plain": [
       "array([0.06333133, 0.08764943, 0.08134133, 0.10196228, 0.06763049,\n",
       "       0.08888987, 0.10468491, 0.06384863, 0.09312691, 0.09939439,\n",
       "       0.0872836 , 0.07250076, 0.08744797, 0.08816322, 0.07171802,\n",
       "       0.08653488, 0.09703502, 0.10003323, 0.07708881, 0.06752575,\n",
       "       0.06935185, 0.08071926, 0.08138017, 0.08278413, 0.10229136,\n",
       "       0.08819084, 0.09621684, 0.07112558, 0.07564226, 0.09735615,\n",
       "       0.08182475, 0.06285334, 0.08282525, 0.09961669, 0.07557579,\n",
       "       0.08803358, 0.08932367, 0.09109532, 0.07150191, 0.07331194,\n",
       "       0.0924541 , 0.07202237, 0.06567096, 0.08764614, 0.08287179,\n",
       "       0.08989421, 0.06547073, 0.08800167, 0.0837529 , 0.09214648,\n",
       "       0.08804258, 0.08573746, 0.07693391, 0.06324226, 0.06426467,\n",
       "       0.08008853, 0.06413746, 0.06908121, 0.09350987, 0.06462582,\n",
       "       0.09676744, 0.09852168, 0.08080884, 0.07382567, 0.08200334,\n",
       "       0.08274234, 0.06562094, 0.07119767, 0.08209705, 0.07403885,\n",
       "       0.08027716, 0.09664391, 0.10227137, 0.08860764, 0.08254713,\n",
       "       0.09437076, 0.06349492, 0.06319118, 0.06706534, 0.08318915,\n",
       "       0.07332875, 0.10348369, 0.07543642, 0.08467945, 0.09814062,\n",
       "       0.08785776, 0.0939587 , 0.09459525, 0.08534858, 0.09453405,\n",
       "       0.08717899, 0.09230019, 0.06615055, 0.08752623, 0.06377608,\n",
       "       0.08095432, 0.07620948, 0.10559384, 0.08690392, 0.0831954 ,\n",
       "       0.06560138, 0.08494998, 0.08924197, 0.08128089, 0.08633486,\n",
       "       0.09756419, 0.06319099, 0.08604399, 0.09356621, 0.09835003,\n",
       "       0.07262354, 0.08127975, 0.0858508 , 0.06816559, 0.07539025,\n",
       "       0.0688276 , 0.07872524, 0.07923712, 0.0800652 , 0.06408184,\n",
       "       0.08558559, 0.0819707 , 0.07771332, 0.08794542, 0.09579647,\n",
       "       0.07599571, 0.08512293, 0.07803516, 0.09564793, 0.09315389,\n",
       "       0.06531866, 0.07053723, 0.08236467, 0.07791992, 0.08738374,\n",
       "       0.06993448, 0.08888942, 0.06778611, 0.06922686, 0.08791698,\n",
       "       0.08238116, 0.06344107, 0.08421824, 0.08634659, 0.08917679,\n",
       "       0.07245316, 0.06539536, 0.10246222, 0.08042306, 0.07007243,\n",
       "       0.06771661, 0.08120648, 0.08919168, 0.08894251, 0.10282316,\n",
       "       0.07849935, 0.06422416, 0.1057687 , 0.08577112, 0.0656263 ,\n",
       "       0.07948015, 0.06574839, 0.09038446, 0.08244484, 0.09705969,\n",
       "       0.09008621, 0.08521776, 0.08149821, 0.08880721, 0.09372672,\n",
       "       0.08754767, 0.09774023, 0.08835385, 0.08892147, 0.08906552,\n",
       "       0.08993222, 0.08165193, 0.08947204, 0.07484918, 0.06610063,\n",
       "       0.08716123, 0.09311405, 0.08729281, 0.06364041, 0.09384988,\n",
       "       0.08877067, 0.07312456, 0.08765958, 0.10117927, 0.08195111,\n",
       "       0.09315721, 0.07548401, 0.0841719 , 0.08463718, 0.08942341,\n",
       "       0.08567485, 0.08773461, 0.10009491, 0.09125373, 0.06488526,\n",
       "       0.09287001, 0.07305295, 0.0943222 , 0.06399417, 0.064058  ,\n",
       "       0.09187592, 0.0736775 , 0.07142055, 0.09496233, 0.10172066,\n",
       "       0.09057123, 0.08847726, 0.08736442, 0.06329961, 0.0984387 ,\n",
       "       0.07767817, 0.07266809, 0.06559843, 0.07108011, 0.07610124,\n",
       "       0.07817844, 0.07745001, 0.08937651, 0.07518082, 0.06559264,\n",
       "       0.0928606 , 0.08416731, 0.06865972, 0.06553629, 0.08552246,\n",
       "       0.07101928, 0.07604254, 0.09134115, 0.06373218, 0.0912238 ,\n",
       "       0.08968491, 0.09184299, 0.06494452, 0.08488735, 0.09157299,\n",
       "       0.07332455, 0.06512355, 0.06925367, 0.07329799, 0.07073798,\n",
       "       0.0961496 , 0.09015487, 0.10497539, 0.07186085, 0.08319717,\n",
       "       0.08451006, 0.08506843, 0.07250303, 0.07969815, 0.09830637,\n",
       "       0.09483364, 0.07912853, 0.08601932, 0.07559184, 0.06673524,\n",
       "       0.0893131 , 0.08426569, 0.07440915, 0.08207061, 0.06996068,\n",
       "       0.08447167, 0.08962225, 0.08998654, 0.10145309, 0.08195464,\n",
       "       0.08454234, 0.09111295, 0.07435229, 0.08922063, 0.08628974,\n",
       "       0.07896221, 0.09193238, 0.09192342, 0.09368015, 0.08374579,\n",
       "       0.07966008, 0.07984262, 0.08887417, 0.09879612, 0.07379801,\n",
       "       0.07713826, 0.07785321, 0.09164384, 0.07836074, 0.08358066,\n",
       "       0.08173904, 0.08374697, 0.07103479, 0.07575137, 0.08915573,\n",
       "       0.08713711, 0.0632094 , 0.07902764, 0.06400243, 0.08319762,\n",
       "       0.10534476, 0.09300363, 0.08156   , 0.10402176, 0.08464421,\n",
       "       0.08159165, 0.0921308 , 0.09198278, 0.0802153 , 0.07552381,\n",
       "       0.08489283, 0.07435211, 0.07065809, 0.07691812, 0.10039799,\n",
       "       0.0989093 , 0.08675204, 0.07121618, 0.06967014, 0.10394125,\n",
       "       0.06546907, 0.09452035, 0.08655879, 0.08373574, 0.06535482,\n",
       "       0.09626182, 0.08568562, 0.08443849, 0.0682962 , 0.09942933,\n",
       "       0.07855033, 0.06945058, 0.08953249, 0.07042337, 0.07344214,\n",
       "       0.08023569, 0.08718273, 0.09409871, 0.07663117, 0.08112694,\n",
       "       0.09188206, 0.0765016 , 0.0948505 , 0.08861102, 0.09209393,\n",
       "       0.07618842, 0.09390731, 0.09182871, 0.07786927, 0.07467815,\n",
       "       0.06381269, 0.07538582, 0.08849069, 0.07761029, 0.0695935 ,\n",
       "       0.06494326, 0.08842785, 0.08697605, 0.08822504, 0.10348281,\n",
       "       0.07134869, 0.10516172, 0.08130735, 0.06860884, 0.08676299,\n",
       "       0.06571777, 0.09140108, 0.08192314, 0.09939763, 0.08501825,\n",
       "       0.08266557, 0.07972076, 0.08778764, 0.06387488, 0.08729636,\n",
       "       0.07415124, 0.08246181, 0.09649872, 0.08156604, 0.09767646,\n",
       "       0.09057293, 0.08629715, 0.07979842, 0.07283862, 0.09973223,\n",
       "       0.0766082 , 0.08793711, 0.07599803, 0.06915697, 0.08968695,\n",
       "       0.07970738, 0.06572749, 0.0952495 , 0.07393446, 0.08699059,\n",
       "       0.08208578, 0.0757341 , 0.06306854, 0.08068997, 0.10108304,\n",
       "       0.09928834, 0.08344994, 0.10513641, 0.08302819, 0.09630869,\n",
       "       0.10206468, 0.06352647, 0.09488796, 0.09305482, 0.07532049,\n",
       "       0.06227017, 0.09043402, 0.08265358, 0.0664748 , 0.09840214,\n",
       "       0.07903624, 0.09075985, 0.07047956, 0.09761861, 0.086581  ,\n",
       "       0.08516474, 0.08850852, 0.0849019 , 0.0706991 , 0.06507941,\n",
       "       0.06834797, 0.10223185, 0.09812172, 0.0832448 , 0.07205438,\n",
       "       0.06503367, 0.0844285 , 0.09028746, 0.06453699, 0.07926401,\n",
       "       0.08944482, 0.06406462, 0.08835163, 0.09553827, 0.07904449,\n",
       "       0.08226386, 0.08983151, 0.09479112, 0.06948472, 0.08529678,\n",
       "       0.07970239, 0.08406178, 0.08107519, 0.08369276, 0.0638784 ,\n",
       "       0.09446312, 0.0637617 , 0.07948733, 0.10198591, 0.0812047 ,\n",
       "       0.0694767 , 0.07108048, 0.08746147, 0.06954906, 0.08688206,\n",
       "       0.09853198, 0.08613757, 0.08623587, 0.09382522, 0.06375452,\n",
       "       0.09603873, 0.066814  , 0.0763399 , 0.09344821, 0.10513887,\n",
       "       0.08074288, 0.08491869, 0.06583236, 0.09678517, 0.07768426,\n",
       "       0.08655356, 0.08383552, 0.10204646, 0.08081813, 0.07120734,\n",
       "       0.08335029, 0.09107488, 0.08423809, 0.06829004, 0.06675228,\n",
       "       0.08551187, 0.09591423, 0.09100385, 0.10470772, 0.07938838,\n",
       "       0.09586839, 0.06863966, 0.06428279, 0.08655358, 0.08950484,\n",
       "       0.08431584, 0.07558354, 0.08780925, 0.09674851, 0.07320533,\n",
       "       0.09604272, 0.08511015, 0.07735979, 0.07621664, 0.08523477,\n",
       "       0.08142281, 0.07461745, 0.07099908, 0.09901871, 0.10273593,\n",
       "       0.06677571, 0.09003509, 0.08807251, 0.06202695, 0.08945495,\n",
       "       0.10126627, 0.06493317, 0.0808546 , 0.06358579, 0.07318955,\n",
       "       0.10109741, 0.09190221, 0.09039825, 0.08206826, 0.08612173,\n",
       "       0.07612145, 0.06966232, 0.09107186, 0.08906802, 0.06322754,\n",
       "       0.08384156, 0.08811269, 0.07107764, 0.08407233, 0.09413112,\n",
       "       0.08377238, 0.07872053, 0.08279411, 0.06319181, 0.08447857,\n",
       "       0.08642843, 0.07273208, 0.08549186, 0.08252267, 0.09020038,\n",
       "       0.09872169, 0.08697007, 0.08364321, 0.09418538, 0.06449207,\n",
       "       0.07093931, 0.07306303, 0.08011889, 0.07226156, 0.10470127,\n",
       "       0.08692901, 0.09177728, 0.07720793, 0.0921361 , 0.10542022,\n",
       "       0.07902916, 0.07261841, 0.07856759, 0.07730238, 0.08127361,\n",
       "       0.08373885, 0.09914972, 0.10013638, 0.06343541, 0.09064396,\n",
       "       0.10458744, 0.08813376, 0.08771807, 0.09615856, 0.08339046,\n",
       "       0.06396207, 0.08102849, 0.08797317, 0.09146435, 0.0737072 ,\n",
       "       0.07981634, 0.07181457, 0.07152666, 0.09636037, 0.08760458,\n",
       "       0.10460131, 0.07452181, 0.09743241, 0.07415475, 0.06408341,\n",
       "       0.08584253, 0.08863826, 0.09267865, 0.07871114, 0.09520688,\n",
       "       0.08413932, 0.08257685, 0.07080435, 0.08361735, 0.08822022,\n",
       "       0.09025065, 0.09316971, 0.07608497, 0.09356446, 0.08979868,\n",
       "       0.06358618, 0.08753505, 0.07053174, 0.07370384, 0.09386963,\n",
       "       0.0815179 , 0.08648279, 0.06385088, 0.08161882, 0.09362936,\n",
       "       0.09401179, 0.09280479, 0.10031494, 0.08782338, 0.07688085,\n",
       "       0.09355401, 0.08662918, 0.08229747, 0.08286936, 0.06505456,\n",
       "       0.10206767, 0.09675727, 0.09025594, 0.06322537, 0.08082447,\n",
       "       0.08713593, 0.07056605, 0.0709487 , 0.07011285, 0.08800248,\n",
       "       0.0854385 , 0.06956081, 0.0692549 , 0.10017066, 0.07499713,\n",
       "       0.0948107 , 0.07602652, 0.08676454, 0.08199606, 0.07502624,\n",
       "       0.0870059 , 0.08774708, 0.08862585, 0.09989514, 0.08317217,\n",
       "       0.0817015 , 0.0869215 , 0.06897708, 0.0726295 , 0.08967085,\n",
       "       0.08542548, 0.07937487, 0.07511057, 0.07030278, 0.07053771,\n",
       "       0.10177759, 0.06973998, 0.09079641, 0.10511048, 0.09645897,\n",
       "       0.06339682, 0.09122274, 0.09774903, 0.06595259, 0.07279626,\n",
       "       0.10208619, 0.07406373, 0.08777346, 0.08809311, 0.07584207,\n",
       "       0.08400197, 0.08759157, 0.07695145, 0.10023862, 0.06457028,\n",
       "       0.08288455, 0.06590958, 0.07417181, 0.09786745, 0.07148065,\n",
       "       0.06590077, 0.07483733, 0.08959661, 0.06844855, 0.09840357,\n",
       "       0.0794682 , 0.08297504, 0.08893672, 0.09470559, 0.08806825,\n",
       "       0.09128917, 0.07711538, 0.10073514, 0.09826266, 0.08786632,\n",
       "       0.08693904, 0.08154902, 0.10015676, 0.06349975, 0.08604452,\n",
       "       0.08788731, 0.07719595, 0.10364614, 0.0711126 , 0.08576842,\n",
       "       0.06871201, 0.07367777, 0.08588708, 0.10494228, 0.09568217,\n",
       "       0.08654075, 0.09505163, 0.09949341, 0.08211487, 0.0937456 ,\n",
       "       0.09438931, 0.07268522, 0.07310015, 0.06382215, 0.08083228,\n",
       "       0.09844139, 0.06362294, 0.09647285, 0.07267707, 0.07028286,\n",
       "       0.06701493, 0.09733514, 0.10033125, 0.07984996, 0.07436598,\n",
       "       0.10363392, 0.09520383, 0.08282454, 0.08304311, 0.0760885 ,\n",
       "       0.07540192, 0.08861993, 0.06924405, 0.09134769, 0.0764971 ,\n",
       "       0.09807157, 0.08658894, 0.08366365, 0.07997833, 0.07195954,\n",
       "       0.0697769 , 0.06654648, 0.06648848, 0.07911301, 0.08758873,\n",
       "       0.07504613, 0.06954085, 0.09468265, 0.09164359, 0.07471136,\n",
       "       0.06752734, 0.06952466, 0.08664412, 0.09218684, 0.08785909,\n",
       "       0.06419284, 0.07000154, 0.10280103, 0.0717904 , 0.10185068,\n",
       "       0.06390743, 0.0752402 , 0.10045422, 0.07940917, 0.07244846,\n",
       "       0.07591605, 0.08831641, 0.08499042, 0.06206025, 0.10044474,\n",
       "       0.08197312, 0.06741006, 0.07604101, 0.10076338, 0.0979792 ,\n",
       "       0.09544906, 0.09319743, 0.08249954, 0.08633779, 0.08675616,\n",
       "       0.06203501, 0.08893146, 0.08695236, 0.0728753 , 0.07141126,\n",
       "       0.10369849, 0.0636684 , 0.09290198, 0.08657819, 0.07711245,\n",
       "       0.08085716, 0.08014041, 0.08214841, 0.08818019, 0.09775083,\n",
       "       0.09515175, 0.07249354, 0.07234444, 0.06650779, 0.06809279,\n",
       "       0.092557  , 0.09197386, 0.08990395, 0.06424701, 0.08754569,\n",
       "       0.07695525, 0.09254258, 0.09186223, 0.0892805 , 0.075249  ,\n",
       "       0.08759734, 0.10124589, 0.0652198 , 0.06964553, 0.08796017,\n",
       "       0.07051517, 0.08301448, 0.07880234, 0.06399334, 0.09095836,\n",
       "       0.07531809, 0.08580911, 0.08378865, 0.07737439, 0.09400289,\n",
       "       0.08694727, 0.09357569, 0.0778588 , 0.07092616, 0.09080247,\n",
       "       0.08481506, 0.08201407, 0.09784988, 0.07705879, 0.09101267,\n",
       "       0.08468462, 0.0889551 , 0.08454867, 0.09025495, 0.06600849,\n",
       "       0.08608906, 0.08947268, 0.08957977, 0.08394873, 0.09001131,\n",
       "       0.09460366, 0.08693271, 0.08416096, 0.06488919, 0.07132711,\n",
       "       0.10145824, 0.07879852, 0.08296643, 0.1082882 , 0.09894388,\n",
       "       0.09943797, 0.08190518, 0.08471438, 0.08373984, 0.08805349,\n",
       "       0.06342293, 0.06794999, 0.08309075, 0.0953423 , 0.08617274,\n",
       "       0.09999972, 0.09113152, 0.09426287, 0.10173196, 0.0765454 ,\n",
       "       0.10182718, 0.0847811 , 0.08488815, 0.09594641, 0.0952736 ,\n",
       "       0.07037457, 0.09126554, 0.08531506, 0.07345039, 0.07308736,\n",
       "       0.07370568, 0.07127039, 0.09043282, 0.09551052, 0.08868437,\n",
       "       0.092783  , 0.07945035, 0.09395128, 0.07958992, 0.07720565,\n",
       "       0.07613664, 0.06845321, 0.07634986, 0.09448331, 0.08137398,\n",
       "       0.08142046, 0.07542682, 0.0980026 , 0.0744497 , 0.09029931,\n",
       "       0.07520061, 0.08367102, 0.08702748, 0.09446418, 0.09092882,\n",
       "       0.08791781, 0.07451196, 0.08473974, 0.08982557, 0.09814921,\n",
       "       0.08591971, 0.10300933, 0.0805643 , 0.06204471, 0.08079416,\n",
       "       0.07382959, 0.0864723 , 0.07287789, 0.06571772, 0.09225398,\n",
       "       0.08227383, 0.08186068, 0.07379806, 0.09083191, 0.06223642,\n",
       "       0.08819325, 0.08319489, 0.07820011, 0.07630897, 0.09195087,\n",
       "       0.09850783, 0.09428332, 0.07664987, 0.09123163, 0.10179402,\n",
       "       0.07693219, 0.09608508, 0.07530638, 0.06352739, 0.09236415,\n",
       "       0.10749347, 0.09608699, 0.08470851, 0.08597891, 0.0866301 ,\n",
       "       0.09926646, 0.10470496, 0.09672544, 0.07115078, 0.08042749,\n",
       "       0.07903128, 0.08818774, 0.09084603, 0.08533421, 0.09088548,\n",
       "       0.06418374, 0.08512384])"
      ]
     },
     "execution_count": 101,
     "metadata": {},
     "output_type": "execute_result"
    }
   ],
   "source": [
    "ypred_elast"
   ]
  },
  {
   "cell_type": "markdown",
   "metadata": {},
   "source": [
    "## XGBoost"
   ]
  },
  {
   "cell_type": "code",
   "execution_count": 32,
   "metadata": {},
   "outputs": [],
   "source": [
    "model = xgb.XGBRegressor(colsample_bytree=0.4,\n",
    "              gamma=0,                 \n",
    "              learning_rate=0.01,\n",
    "              max_depth=3,\n",
    "              min_child_weight=1.5,\n",
    "              n_estimators=10000,                                                                    \n",
    "              reg_alpha=0.75,\n",
    "              reg_lambda=0.45,\n",
    "              subsample=0.6,\n",
    "              seed=42)"
   ]
  },
  {
   "cell_type": "code",
   "execution_count": 34,
   "metadata": {},
   "outputs": [
    {
     "name": "stdout",
     "output_type": "stream",
     "text": [
      "[00:59:31] WARNING: C:/Jenkins/workspace/xgboost-win64_release_0.90/src/objective/regression_obj.cu:152: reg:linear is now deprecated in favor of reg:squarederror.\n"
     ]
    },
    {
     "data": {
      "text/plain": [
       "XGBRegressor(base_score=0.5, booster='gbtree', colsample_bylevel=1,\n",
       "             colsample_bynode=1, colsample_bytree=0.4, gamma=0,\n",
       "             importance_type='gain', learning_rate=0.01, max_delta_step=0,\n",
       "             max_depth=3, min_child_weight=1.5, missing=None,\n",
       "             n_estimators=10000, n_jobs=1, nthread=None, objective='reg:linear',\n",
       "             random_state=0, reg_alpha=0.75, reg_lambda=0.45,\n",
       "             scale_pos_weight=1, seed=42, silent=None, subsample=0.6,\n",
       "             verbosity=1)"
      ]
     },
     "execution_count": 34,
     "metadata": {},
     "output_type": "execute_result"
    }
   ],
   "source": [
    "model.fit(X_train.values, ytrain)"
   ]
  },
  {
   "cell_type": "code",
   "execution_count": 91,
   "metadata": {},
   "outputs": [],
   "source": [
    "ytrain_pred = model.predict(X_train)"
   ]
  },
  {
   "cell_type": "code",
   "execution_count": 35,
   "metadata": {},
   "outputs": [],
   "source": [
    "ypred_xgb = model.predict(X_test.values)"
   ]
  },
  {
   "cell_type": "markdown",
   "metadata": {},
   "source": [
    "## Linear Regression"
   ]
  },
  {
   "cell_type": "code",
   "execution_count": 122,
   "metadata": {},
   "outputs": [],
   "source": [
    "lr=LinearRegression()\n",
    "lr.fit(X_train, ytrain)"
   ]
  },
  {
   "cell_type": "code",
   "execution_count": 111,
   "metadata": {},
   "outputs": [],
   "source": [
    "ypred = lr.predict(X_test)"
   ]
  },
  {
   "cell_type": "code",
   "execution_count": 125,
   "metadata": {},
   "outputs": [
    {
     "data": {
      "text/plain": [
       "0.9088113920543789"
      ]
     },
     "execution_count": 125,
     "metadata": {},
     "output_type": "execute_result"
    }
   ],
   "source": [
    "cross_val_score(LinearRegression(), data_scaled.drop(\"y\", axis=1), data.y, cv=5).mean()"
   ]
  },
  {
   "cell_type": "markdown",
   "metadata": {},
   "source": [
    "## SVR"
   ]
  },
  {
   "cell_type": "code",
   "execution_count": 116,
   "metadata": {},
   "outputs": [
    {
     "name": "stderr",
     "output_type": "stream",
     "text": [
      "c:\\users\\niniolaadegboyega\\appdata\\local\\programs\\python\\python37\\lib\\site-packages\\sklearn\\svm\\base.py:193: FutureWarning: The default value of gamma will change from 'auto' to 'scale' in version 0.22 to account better for unscaled features. Set gamma explicitly to 'auto' or 'scale' to avoid this warning.\n",
      "  \"avoid this warning.\", FutureWarning)\n"
     ]
    }
   ],
   "source": [
    "vm = SVR().fit(X_train, ytrain)"
   ]
  },
  {
   "cell_type": "code",
   "execution_count": 117,
   "metadata": {},
   "outputs": [],
   "source": [
    "ypred_svr = vm.predict(X_test)"
   ]
  },
  {
   "cell_type": "markdown",
   "metadata": {},
   "source": [
    "# Evaluation"
   ]
  },
  {
   "cell_type": "code",
   "execution_count": 39,
   "metadata": {},
   "outputs": [],
   "source": [
    "from sklearn.metrics import mean_squared_error, r2_score\n",
    "import scipy.stats as stats\n",
    "import pylab"
   ]
  },
  {
   "cell_type": "code",
   "execution_count": 40,
   "metadata": {},
   "outputs": [],
   "source": [
    "def calculate_residuals(ytrue, ypred):\n",
    "    return ytrue - ypred \n",
    "\n",
    "def plot_residuals(ypred, residuals):\n",
    "    f, axes = plt.subplots(1, 2, figsize=(20, 5))\n",
    "    sns.scatterplot(x=ypred, y=residuals, ax=axes[0])\n",
    "    sns.distplot(residuals, ax=axes[1])\n",
    "    axes[0].set_title(\"Scatterplot of Residuals\")\n",
    "    axes[1].set_title(\"Distribution plot of Residuals\")\n",
    "    plt.show()"
   ]
  },
  {
   "cell_type": "markdown",
   "metadata": {},
   "source": [
    "## RMSE"
   ]
  },
  {
   "cell_type": "code",
   "execution_count": 112,
   "metadata": {},
   "outputs": [
    {
     "data": {
      "text/plain": [
       "0.013399768725360662"
      ]
     },
     "execution_count": 112,
     "metadata": {},
     "output_type": "execute_result"
    }
   ],
   "source": [
    "rmse = mean_squared_error(ytest, ypred) ** 0.5\n",
    "rmse"
   ]
  },
  {
   "cell_type": "code",
   "execution_count": 102,
   "metadata": {},
   "outputs": [
    {
     "data": {
      "text/plain": [
       "0.054563570213456015"
      ]
     },
     "execution_count": 102,
     "metadata": {},
     "output_type": "execute_result"
    }
   ],
   "source": [
    "rmse_elast = mean_squared_error(ytest, ypred_elast) ** 0.5\n",
    "rmse_elast"
   ]
  },
  {
   "cell_type": "code",
   "execution_count": 118,
   "metadata": {},
   "outputs": [
    {
     "data": {
      "text/plain": [
       "0.046470082578497066"
      ]
     },
     "execution_count": 118,
     "metadata": {},
     "output_type": "execute_result"
    }
   ],
   "source": [
    "rmse_svr =  mean_squared_error(ytest, ypred_svr) ** 0.5\n",
    "rmse_svr"
   ]
  },
  {
   "cell_type": "markdown",
   "metadata": {},
   "source": [
    "## Residuals"
   ]
  },
  {
   "cell_type": "code",
   "execution_count": 113,
   "metadata": {},
   "outputs": [],
   "source": [
    "residuals = calculate_residuals(ytest, ypred)"
   ]
  },
  {
   "cell_type": "code",
   "execution_count": 103,
   "metadata": {},
   "outputs": [],
   "source": [
    "residuals_elast = calculate_residuals(ytest, ypred_elast)"
   ]
  },
  {
   "cell_type": "code",
   "execution_count": 119,
   "metadata": {},
   "outputs": [],
   "source": [
    "residuals_svr = calculate_residuals(ytest, ypred_svr)"
   ]
  },
  {
   "cell_type": "markdown",
   "metadata": {},
   "source": [
    "### Scatterplot & Distribution Plot"
   ]
  },
  {
   "cell_type": "code",
   "execution_count": 114,
   "metadata": {},
   "outputs": [
    {
     "data": {
      "image/png": "[encoded data removed]",
      "text/plain": [
       "<Figure size 1440x360 with 2 Axes>"
      ]
     },
     "metadata": {
      "needs_background": "light"
     },
     "output_type": "display_data"
    }
   ],
   "source": [
    "# check for heteroskedasticity\n",
    "plot_residuals(ypred, residuals)"
   ]
  },
  {
   "cell_type": "code",
   "execution_count": 106,
   "metadata": {},
   "outputs": [
    {
     "data": {
      "image/png": "[encoded data removed]",
      "text/plain": [
       "<Figure size 1440x360 with 2 Axes>"
      ]
     },
     "metadata": {
      "needs_background": "light"
     },
     "output_type": "display_data"
    }
   ],
   "source": [
    "plot_residuals(ypred_elast, residuals_elast)"
   ]
  },
  {
   "cell_type": "code",
   "execution_count": 120,
   "metadata": {},
   "outputs": [
    {
     "data": {
      "image/png": "[encoded data removed]",
      "text/plain": [
       "<Figure size 1440x360 with 2 Axes>"
      ]
     },
     "metadata": {
      "needs_background": "light"
     },
     "output_type": "display_data"
    }
   ],
   "source": [
    "plot_residuals(ypred_svr, residuals_svr)"
   ]
  },
  {
   "cell_type": "markdown",
   "metadata": {},
   "source": [
    "#### Comments\n",
    "\n",
    "The aim of this plot to check for Heteroscedasticity and the distribution of residuals. Expected behavior is for residuals to remain evenly distributed about y = 0 as ypred increases. While a normal distribution with mean zero of the residuals is desired, this effect can also be produced in cross-sectional data where a lot of values are very small. \n",
    "\n",
    "* XGBRegressor with standard hyperparams, dropped galaxy and galactic year columns produces significant heteroskedasticity. \n",
    "* LinearRegression with no tuning, galaxy column one-hot encoded, galactic year dropped, scaled produces little heteroskedasticity. \n",
    "* Distribution of Residuals in both cases is normal. "
   ]
  },
  {
   "cell_type": "markdown",
   "metadata": {},
   "source": [
    "### Residuals vs. ypred Jointplot "
   ]
  },
  {
   "cell_type": "code",
   "execution_count": 44,
   "metadata": {},
   "outputs": [
    {
     "data": {
      "text/plain": [
       "<seaborn.axisgrid.JointGrid at 0x2178ec40848>"
      ]
     },
     "execution_count": 44,
     "metadata": {},
     "output_type": "execute_result"
    },
    {
     "data": {
      "image/png": "[encoded data removed]",
      "text/plain": [
       "<Figure size 432x432 with 3 Axes>"
      ]
     },
     "metadata": {
      "needs_background": "light"
     },
     "output_type": "display_data"
    }
   ],
   "source": [
    "sns.jointplot(x=ypred, y=residuals, kind=\"scatter\")"
   ]
  },
  {
   "cell_type": "code",
   "execution_count": 107,
   "metadata": {},
   "outputs": [
    {
     "data": {
      "text/plain": [
       "<seaborn.axisgrid.JointGrid at 0x217a022e1c8>"
      ]
     },
     "execution_count": 107,
     "metadata": {},
     "output_type": "execute_result"
    },
    {
     "data": {
      "image/png": "[encoded data removed]",
      "text/plain": [
       "<Figure size 432x432 with 3 Axes>"
      ]
     },
     "metadata": {
      "needs_background": "light"
     },
     "output_type": "display_data"
    }
   ],
   "source": [
    "sns.jointplot(x=ypred_elast, y=residuals_elast, kind=\"scatter\")"
   ]
  },
  {
   "cell_type": "markdown",
   "metadata": {},
   "source": [
    "#### Comments\n",
    "\n",
    "This plot includes histogram plots of distribution of points on both axes. The y-axis residual plot should be same as Distribution Plot earlier. The x-axis distplot helps give the lie, where necessary, to a misleading normal distribution of residuals."
   ]
  },
  {
   "cell_type": "markdown",
   "metadata": {},
   "source": [
    "### Residuals vs. Observation Order Plot"
   ]
  },
  {
   "cell_type": "code",
   "execution_count": 45,
   "metadata": {},
   "outputs": [
    {
     "data": {
      "text/plain": [
       "Text(0.5, 1.0, 'Plot of Residuals vs. Order')"
      ]
     },
     "execution_count": 45,
     "metadata": {},
     "output_type": "execute_result"
    },
    {
     "data": {
      "image/png": "[encoded data removed]",
      "text/plain": [
       "<Figure size 432x288 with 1 Axes>"
      ]
     },
     "metadata": {
      "needs_background": "light"
     },
     "output_type": "display_data"
    }
   ],
   "source": [
    "sns.scatterplot(X_test_order, residuals)\n",
    "plt.title(\"Plot of Residuals vs. Order\")"
   ]
  },
  {
   "cell_type": "markdown",
   "metadata": {},
   "source": [
    "### Residuals QQ Plot"
   ]
  },
  {
   "cell_type": "code",
   "execution_count": 46,
   "metadata": {},
   "outputs": [
    {
     "data": {
      "image/png": "[encoded data removed]",
      "text/plain": [
       "<Figure size 432x288 with 1 Axes>"
      ]
     },
     "metadata": {
      "needs_background": "light"
     },
     "output_type": "display_data"
    }
   ],
   "source": [
    "stats.probplot(residuals, dist=\"norm\", plot=pylab)\n",
    "plt.title(\"Q-Q Plot of Residuals\")\n",
    "pylab.show()"
   ]
  },
  {
   "cell_type": "markdown",
   "metadata": {},
   "source": [
    "#### Comments\n",
    "\n",
    "The Q-Q Plot is a rough indication of the distribution that a set of data comes from. For normal distribution of mean 0 and standard deviation 1, the data should lie on y=x. The residual plot should pass through (0,0) if the mean of the residuals is 0. Slope should be 1 if standard deviation is 1. \n",
    "\n",
    "Useful Resources:\n",
    " 1. [How to interprest a QQ PLot](https://stats.stackexchange.com/questions/101274/how-to-interpret-a-qq-plot)\n",
    " 2. [QQ plot and x=y line](https://stats.stackexchange.com/questions/348438/qq-plot-and-x-y-line)\n",
    "\n",
    "* With Linear Regression, onehot encoding of galaxy column,scaled data, more of the points lie on y=x. The plot has tails showing that it is has more extreme vales than it would if it truly followed a normal distribution. "
   ]
  },
  {
   "cell_type": "markdown",
   "metadata": {},
   "source": [
    "## R-Squared"
   ]
  },
  {
   "cell_type": "code",
   "execution_count": 47,
   "metadata": {},
   "outputs": [
    {
     "data": {
      "text/plain": [
       "0.9516705952083852"
      ]
     },
     "execution_count": 47,
     "metadata": {},
     "output_type": "execute_result"
    }
   ],
   "source": [
    "r2_score(ytest, ypred)"
   ]
  },
  {
   "cell_type": "code",
   "execution_count": 109,
   "metadata": {},
   "outputs": [
    {
     "data": {
      "text/plain": [
       "0.19864970707529617"
      ]
     },
     "execution_count": 109,
     "metadata": {},
     "output_type": "execute_result"
    }
   ],
   "source": [
    "r2_score(ytest, ypred_elast)"
   ]
  },
  {
   "cell_type": "code",
   "execution_count": 121,
   "metadata": {},
   "outputs": [
    {
     "data": {
      "text/plain": [
       "0.41874897780825227"
      ]
     },
     "execution_count": 121,
     "metadata": {},
     "output_type": "execute_result"
    }
   ],
   "source": [
    "r2_score(ytest, ypred_svr)"
   ]
  },
  {
   "cell_type": "markdown",
   "metadata": {},
   "source": [
    "# Model Interpretation"
   ]
  },
  {
   "cell_type": "code",
   "execution_count": null,
   "metadata": {},
   "outputs": [],
   "source": [
    "from collections import OrderedDict"
   ]
  },
  {
   "cell_type": "code",
   "execution_count": null,
   "metadata": {},
   "outputs": [],
   "source": [
    "OrderedDict(sorted(model.get_booster().get_fscore().items(), key=lambda t: t[1], reverse=True))"
   ]
  },
  {
   "cell_type": "markdown",
   "metadata": {},
   "source": [
    "# Model Tuning"
   ]
  },
  {
   "cell_type": "code",
   "execution_count": 52,
   "metadata": {},
   "outputs": [
    {
     "data": {
      "text/plain": [
       "<matplotlib.axes._subplots.AxesSubplot at 0x20562a64308>"
      ]
     },
     "execution_count": 52,
     "metadata": {},
     "output_type": "execute_result"
    },
    {
     "data": {
      "image/png": "[encoded data removed]",
      "text/plain": [
       "<Figure size 432x288 with 1 Axes>"
      ]
     },
     "metadata": {},
     "output_type": "display_data"
    }
   ],
   "source": [
    "sns.distplot(data.y)"
   ]
  },
  {
   "cell_type": "code",
   "execution_count": 49,
   "metadata": {},
   "outputs": [
    {
     "data": {
      "text/plain": [
       "<matplotlib.axes._subplots.AxesSubplot at 0x205627ed288>"
      ]
     },
     "execution_count": 49,
     "metadata": {},
     "output_type": "execute_result"
    },
    {
     "data": {
      "image/png": "[encoded data removed]",
      "text/plain": [
       "<Figure size 432x288 with 1 Axes>"
      ]
     },
     "metadata": {},
     "output_type": "display_data"
    }
   ],
   "source": [
    "sns.distplot(data.y.loc[data.y < 0.10])"
   ]
  },
  {
   "cell_type": "code",
   "execution_count": 50,
   "metadata": {},
   "outputs": [
    {
     "data": {
      "text/plain": [
       "<matplotlib.axes._subplots.AxesSubplot at 0x205628b7148>"
      ]
     },
     "execution_count": 50,
     "metadata": {},
     "output_type": "execute_result"
    },
    {
     "data": {
      "image/png": "[encoded data removed]",
      "text/plain": [
       "<Figure size 432x288 with 1 Axes>"
      ]
     },
     "metadata": {},
     "output_type": "display_data"
    }
   ],
   "source": [
    "sns.distplot(-np.log10(data.y.loc[data.y < 0.10]))"
   ]
  },
  {
   "cell_type": "code",
   "execution_count": 51,
   "metadata": {},
   "outputs": [
    {
     "data": {
      "text/plain": [
       "<matplotlib.axes._subplots.AxesSubplot at 0x2056297d3c8>"
      ]
     },
     "execution_count": 51,
     "metadata": {},
     "output_type": "execute_result"
    },
    {
     "data": {
      "image/png": "[encoded data removed]",
      "text/plain": [
       "<Figure size 432x288 with 1 Axes>"
      ]
     },
     "metadata": {},
     "output_type": "display_data"
    }
   ],
   "source": [
    "sns.distplot(data.y.loc[data.y > 0.10])"
   ]
  },
  {
   "cell_type": "code",
   "execution_count": 48,
   "metadata": {},
   "outputs": [
    {
     "data": {
      "text/plain": [
       "<matplotlib.axes._subplots.AxesSubplot at 0x205626f3a08>"
      ]
     },
     "execution_count": 48,
     "metadata": {},
     "output_type": "execute_result"
    },
    {
     "data": {
      "image/png": "[encoded data removed]",
      "text/plain": [
       "<Figure size 432x288 with 1 Axes>"
      ]
     },
     "metadata": {},
     "output_type": "display_data"
    }
   ],
   "source": [
    "sns.distplot(-np.log10(data.y.loc[data.y > 0.15]))"
   ]
  }
 ],
 "metadata": {
  "kernelspec": {
   "display_name": "Python 3",
   "language": "python",
   "name": "python3"
  },
  "language_info": {
   "codemirror_mode": {
    "name": "ipython",
    "version": 3
   },
   "file_extension": ".py",
   "mimetype": "text/x-python",
   "name": "python",
   "nbconvert_exporter": "python",
   "pygments_lexer": "ipython3",
   "version": "3.7.4"
  },
  "toc-autonumbering": true
 },
 "nbformat": 4,
 "nbformat_minor": 4
}
