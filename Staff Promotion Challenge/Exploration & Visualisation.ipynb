{
 "cells": [
  {
   "cell_type": "code",
   "execution_count": 1,
   "metadata": {},
   "outputs": [],
   "source": [
    "import pandas as pd\n",
    "import matplotlib.pyplot as plt\n",
    "import seaborn as sns; sns.set()\n",
    "%matplotlib inline"
   ]
  },
  {
   "cell_type": "code",
   "execution_count": 2,
   "metadata": {},
   "outputs": [],
   "source": [
    "train = pd.read_csv('new_train.csv')"
   ]
  },
  {
   "cell_type": "code",
   "execution_count": 3,
   "metadata": {},
   "outputs": [
    {
     "data": {
      "text/html": [
       "<div>\n",
       "<style scoped>\n",
       "    .dataframe tbody tr th:only-of-type {\n",
       "        vertical-align: middle;\n",
       "    }\n",
       "\n",
       "    .dataframe tbody tr th {\n",
       "        vertical-align: top;\n",
       "    }\n",
       "\n",
       "    .dataframe thead th {\n",
       "        text-align: right;\n",
       "    }\n",
       "</style>\n",
       "<table border=\"1\" class=\"dataframe\">\n",
       "  <thead>\n",
       "    <tr style=\"text-align: right;\">\n",
       "      <th></th>\n",
       "      <th>Age</th>\n",
       "      <th>Channel_of_Recruitment</th>\n",
       "      <th>Division</th>\n",
       "      <th>Foreign_schooled</th>\n",
       "      <th>Gender</th>\n",
       "      <th>Last_performance_score</th>\n",
       "      <th>Marital_Status</th>\n",
       "      <th>No_of_previous_employers</th>\n",
       "      <th>Past_Disciplinary_Action</th>\n",
       "      <th>Previous_Award</th>\n",
       "      <th>Previous_IntraDepartmental_Movement</th>\n",
       "      <th>Promoted_or_Not</th>\n",
       "      <th>Qualification</th>\n",
       "      <th>State_Of_Origin</th>\n",
       "      <th>Targets_met</th>\n",
       "      <th>Training_score_average</th>\n",
       "      <th>Trainings_Attended</th>\n",
       "      <th>Years_on_job</th>\n",
       "    </tr>\n",
       "  </thead>\n",
       "  <tbody>\n",
       "    <tr>\n",
       "      <td>0</td>\n",
       "      <td>33</td>\n",
       "      <td>Direct Internal process</td>\n",
       "      <td>Commercial Sales and Marketing</td>\n",
       "      <td>No</td>\n",
       "      <td>Female</td>\n",
       "      <td>12.5</td>\n",
       "      <td>Married</td>\n",
       "      <td>0</td>\n",
       "      <td>No</td>\n",
       "      <td>0</td>\n",
       "      <td>No</td>\n",
       "      <td>0</td>\n",
       "      <td>MSc, MBA and PhD</td>\n",
       "      <td>ANAMBRA</td>\n",
       "      <td>1</td>\n",
       "      <td>41</td>\n",
       "      <td>2</td>\n",
       "      <td>8</td>\n",
       "    </tr>\n",
       "    <tr>\n",
       "      <td>1</td>\n",
       "      <td>28</td>\n",
       "      <td>Agency and others</td>\n",
       "      <td>Customer Support and Field Operations</td>\n",
       "      <td>Yes</td>\n",
       "      <td>Male</td>\n",
       "      <td>12.5</td>\n",
       "      <td>Married</td>\n",
       "      <td>0</td>\n",
       "      <td>No</td>\n",
       "      <td>0</td>\n",
       "      <td>No</td>\n",
       "      <td>0</td>\n",
       "      <td>First Degree or HND</td>\n",
       "      <td>ANAMBRA</td>\n",
       "      <td>0</td>\n",
       "      <td>52</td>\n",
       "      <td>2</td>\n",
       "      <td>4</td>\n",
       "    </tr>\n",
       "    <tr>\n",
       "      <td>2</td>\n",
       "      <td>32</td>\n",
       "      <td>Direct Internal process</td>\n",
       "      <td>Commercial Sales and Marketing</td>\n",
       "      <td>Yes</td>\n",
       "      <td>Male</td>\n",
       "      <td>7.5</td>\n",
       "      <td>Married</td>\n",
       "      <td>0</td>\n",
       "      <td>No</td>\n",
       "      <td>0</td>\n",
       "      <td>No</td>\n",
       "      <td>0</td>\n",
       "      <td>First Degree or HND</td>\n",
       "      <td>KATSINA</td>\n",
       "      <td>0</td>\n",
       "      <td>42</td>\n",
       "      <td>2</td>\n",
       "      <td>7</td>\n",
       "    </tr>\n",
       "    <tr>\n",
       "      <td>3</td>\n",
       "      <td>37</td>\n",
       "      <td>Agency and others</td>\n",
       "      <td>Commercial Sales and Marketing</td>\n",
       "      <td>Yes</td>\n",
       "      <td>Male</td>\n",
       "      <td>2.5</td>\n",
       "      <td>Single</td>\n",
       "      <td>1</td>\n",
       "      <td>No</td>\n",
       "      <td>0</td>\n",
       "      <td>No</td>\n",
       "      <td>0</td>\n",
       "      <td>First Degree or HND</td>\n",
       "      <td>NIGER</td>\n",
       "      <td>0</td>\n",
       "      <td>42</td>\n",
       "      <td>3</td>\n",
       "      <td>10</td>\n",
       "    </tr>\n",
       "    <tr>\n",
       "      <td>4</td>\n",
       "      <td>29</td>\n",
       "      <td>Direct Internal process</td>\n",
       "      <td>Information and Strategy</td>\n",
       "      <td>Yes</td>\n",
       "      <td>Male</td>\n",
       "      <td>7.5</td>\n",
       "      <td>Married</td>\n",
       "      <td>1</td>\n",
       "      <td>No</td>\n",
       "      <td>0</td>\n",
       "      <td>No</td>\n",
       "      <td>0</td>\n",
       "      <td>First Degree or HND</td>\n",
       "      <td>AKWA IBOM</td>\n",
       "      <td>0</td>\n",
       "      <td>77</td>\n",
       "      <td>3</td>\n",
       "      <td>7</td>\n",
       "    </tr>\n",
       "  </tbody>\n",
       "</table>\n",
       "</div>"
      ],
      "text/plain": [
       "   Age   Channel_of_Recruitment                               Division  \\\n",
       "0   33  Direct Internal process         Commercial Sales and Marketing   \n",
       "1   28        Agency and others  Customer Support and Field Operations   \n",
       "2   32  Direct Internal process         Commercial Sales and Marketing   \n",
       "3   37        Agency and others         Commercial Sales and Marketing   \n",
       "4   29  Direct Internal process               Information and Strategy   \n",
       "\n",
       "  Foreign_schooled  Gender  Last_performance_score Marital_Status  \\\n",
       "0               No  Female                    12.5        Married   \n",
       "1              Yes    Male                    12.5        Married   \n",
       "2              Yes    Male                     7.5        Married   \n",
       "3              Yes    Male                     2.5         Single   \n",
       "4              Yes    Male                     7.5        Married   \n",
       "\n",
       "  No_of_previous_employers Past_Disciplinary_Action  Previous_Award  \\\n",
       "0                        0                       No               0   \n",
       "1                        0                       No               0   \n",
       "2                        0                       No               0   \n",
       "3                        1                       No               0   \n",
       "4                        1                       No               0   \n",
       "\n",
       "  Previous_IntraDepartmental_Movement  Promoted_or_Not        Qualification  \\\n",
       "0                                  No                0     MSc, MBA and PhD   \n",
       "1                                  No                0  First Degree or HND   \n",
       "2                                  No                0  First Degree or HND   \n",
       "3                                  No                0  First Degree or HND   \n",
       "4                                  No                0  First Degree or HND   \n",
       "\n",
       "  State_Of_Origin  Targets_met  Training_score_average  Trainings_Attended  \\\n",
       "0         ANAMBRA            1                      41                   2   \n",
       "1         ANAMBRA            0                      52                   2   \n",
       "2         KATSINA            0                      42                   2   \n",
       "3           NIGER            0                      42                   3   \n",
       "4       AKWA IBOM            0                      77                   3   \n",
       "\n",
       "   Years_on_job  \n",
       "0             8  \n",
       "1             4  \n",
       "2             7  \n",
       "3            10  \n",
       "4             7  "
      ]
     },
     "execution_count": 3,
     "metadata": {},
     "output_type": "execute_result"
    }
   ],
   "source": [
    "train.head()"
   ]
  },
  {
   "cell_type": "code",
   "execution_count": 4,
   "metadata": {},
   "outputs": [
    {
     "data": {
      "text/plain": [
       "(38312, 18)"
      ]
     },
     "execution_count": 4,
     "metadata": {},
     "output_type": "execute_result"
    }
   ],
   "source": [
    "train.shape"
   ]
  },
  {
   "cell_type": "markdown",
   "metadata": {},
   "source": [
    "This train data has been cleaned up from the Handling Missing Data notebook so it has no missing values "
   ]
  },
  {
   "cell_type": "code",
   "execution_count": 5,
   "metadata": {},
   "outputs": [
    {
     "data": {
      "text/plain": [
       "Age                                    0\n",
       "Channel_of_Recruitment                 0\n",
       "Division                               0\n",
       "Foreign_schooled                       0\n",
       "Gender                                 0\n",
       "Last_performance_score                 0\n",
       "Marital_Status                         0\n",
       "No_of_previous_employers               0\n",
       "Past_Disciplinary_Action               0\n",
       "Previous_Award                         0\n",
       "Previous_IntraDepartmental_Movement    0\n",
       "Promoted_or_Not                        0\n",
       "Qualification                          0\n",
       "State_Of_Origin                        0\n",
       "Targets_met                            0\n",
       "Training_score_average                 0\n",
       "Trainings_Attended                     0\n",
       "Years_on_job                           0\n",
       "dtype: int64"
      ]
     },
     "execution_count": 5,
     "metadata": {},
     "output_type": "execute_result"
    }
   ],
   "source": [
    "train.isnull().sum()"
   ]
  },
  {
   "cell_type": "code",
   "execution_count": 6,
   "metadata": {},
   "outputs": [
    {
     "data": {
      "text/plain": [
       "Age                                      int64\n",
       "Channel_of_Recruitment                  object\n",
       "Division                                object\n",
       "Foreign_schooled                        object\n",
       "Gender                                  object\n",
       "Last_performance_score                 float64\n",
       "Marital_Status                          object\n",
       "No_of_previous_employers                object\n",
       "Past_Disciplinary_Action                object\n",
       "Previous_Award                           int64\n",
       "Previous_IntraDepartmental_Movement     object\n",
       "Promoted_or_Not                          int64\n",
       "Qualification                           object\n",
       "State_Of_Origin                         object\n",
       "Targets_met                              int64\n",
       "Training_score_average                   int64\n",
       "Trainings_Attended                       int64\n",
       "Years_on_job                             int64\n",
       "dtype: object"
      ]
     },
     "execution_count": 6,
     "metadata": {},
     "output_type": "execute_result"
    }
   ],
   "source": [
    "train.dtypes"
   ]
  },
  {
   "cell_type": "code",
   "execution_count": 7,
   "metadata": {},
   "outputs": [],
   "source": [
    "train[['Previous_Award', 'Promoted_or_Not', 'Targets_met']] = train[['Previous_Award', 'Promoted_or_Not', 'Targets_met']].astype('object')"
   ]
  },
  {
   "cell_type": "markdown",
   "metadata": {},
   "source": [
    "These three columns contain only binary values and are best treated as categorical."
   ]
  },
  {
   "cell_type": "code",
   "execution_count": 8,
   "metadata": {},
   "outputs": [],
   "source": [
    "categorical_columns = list(train.select_dtypes(include=['object']).columns)\n",
    "categorical_columns.remove('Promoted_or_Not')\n",
    "\n",
    "numerical_columns = list(train.select_dtypes(exclude=['object']).columns)"
   ]
  },
  {
   "cell_type": "code",
   "execution_count": 9,
   "metadata": {},
   "outputs": [
    {
     "name": "stdout",
     "output_type": "stream",
     "text": [
      "Categorical columns: 12\n",
      "Numerical columns: 5\n"
     ]
    }
   ],
   "source": [
    "print(\"Categorical columns: {}\".format(len(categorical_columns)))\n",
    "\n",
    "print(\"Numerical columns: {}\".format(len(numerical_columns)))"
   ]
  },
  {
   "cell_type": "code",
   "execution_count": 10,
   "metadata": {},
   "outputs": [
    {
     "data": {
      "text/plain": [
       "['Age',\n",
       " 'Last_performance_score',\n",
       " 'Training_score_average',\n",
       " 'Trainings_Attended',\n",
       " 'Years_on_job']"
      ]
     },
     "execution_count": 10,
     "metadata": {},
     "output_type": "execute_result"
    }
   ],
   "source": [
    "numerical_columns"
   ]
  },
  {
   "cell_type": "code",
   "execution_count": 11,
   "metadata": {},
   "outputs": [
    {
     "data": {
      "text/plain": [
       "<matplotlib.axes._subplots.AxesSubplot at 0x2d307d53408>"
      ]
     },
     "execution_count": 11,
     "metadata": {},
     "output_type": "execute_result"
    },
    {
     "data": {
      "image/png": "[encoded data removed]",
      "text/plain": [
       "<Figure size 432x288 with 1 Axes>"
      ]
     },
     "metadata": {
      "needs_background": "light"
     },
     "output_type": "display_data"
    }
   ],
   "source": [
    "sns.boxplot(x='Promoted_or_Not', y='Years_on_job', data=train)"
   ]
  },
  {
   "cell_type": "markdown",
   "metadata": {},
   "source": [
    "One thing that boxplots show is how a category possibly separates classes. Here, the 0-Class and 1-Class of target share a interquartile class. This is definitely not the most informative column. Plotting feature importances of a tree model will bring further insight."
   ]
  },
  {
   "cell_type": "code",
   "execution_count": 12,
   "metadata": {},
   "outputs": [
    {
     "data": {
      "text/plain": [
       "<matplotlib.axes._subplots.AxesSubplot at 0x2d307f7be48>"
      ]
     },
     "execution_count": 12,
     "metadata": {},
     "output_type": "execute_result"
    },
    {
     "data": {
      "image/png": "[encoded data removed]",
      "text/plain": [
       "<Figure size 432x288 with 1 Axes>"
      ]
     },
     "metadata": {
      "needs_background": "light"
     },
     "output_type": "display_data"
    }
   ],
   "source": [
    "sns.distplot(train['Years_on_job'])"
   ]
  },
  {
   "cell_type": "markdown",
   "metadata": {},
   "source": [
    "It might be best to use a log transformation for this column because of its skew."
   ]
  },
  {
   "cell_type": "code",
   "execution_count": 13,
   "metadata": {},
   "outputs": [
    {
     "data": {
      "text/plain": [
       "<matplotlib.axes._subplots.AxesSubplot at 0x2d3080a8088>"
      ]
     },
     "execution_count": 13,
     "metadata": {},
     "output_type": "execute_result"
    },
    {
     "data": {
      "image/png": "[encoded data removed]",
      "text/plain": [
       "<Figure size 432x288 with 1 Axes>"
      ]
     },
     "metadata": {
      "needs_background": "light"
     },
     "output_type": "display_data"
    }
   ],
   "source": [
    "sns.boxplot(x='Promoted_or_Not', y='Age', data=train)"
   ]
  },
  {
   "cell_type": "markdown",
   "metadata": {},
   "source": [
    "Here, there is slight separation of the classes. It's not so much that it can draw excitement however. "
   ]
  },
  {
   "cell_type": "code",
   "execution_count": 14,
   "metadata": {},
   "outputs": [
    {
     "data": {
      "text/plain": [
       "<matplotlib.axes._subplots.AxesSubplot at 0x2d3081257c8>"
      ]
     },
     "execution_count": 14,
     "metadata": {},
     "output_type": "execute_result"
    },
    {
     "data": {
      "image/png": "[encoded data removed]",
      "text/plain": [
       "<Figure size 432x288 with 1 Axes>"
      ]
     },
     "metadata": {
      "needs_background": "light"
     },
     "output_type": "display_data"
    }
   ],
   "source": [
    "sns.distplot(train['Age'])"
   ]
  },
  {
   "cell_type": "markdown",
   "metadata": {},
   "source": [
    "Well, this is close to normlly distributed so it is possible to apply the Z-Scaler. "
   ]
  },
  {
   "cell_type": "code",
   "execution_count": 15,
   "metadata": {},
   "outputs": [
    {
     "data": {
      "text/plain": [
       "<matplotlib.axes._subplots.AxesSubplot at 0x2d308150388>"
      ]
     },
     "execution_count": 15,
     "metadata": {},
     "output_type": "execute_result"
    },
    {
     "data": {
      "image/png": "[encoded data removed]",
      "text/plain": [
       "<Figure size 432x288 with 1 Axes>"
      ]
     },
     "metadata": {
      "needs_background": "light"
     },
     "output_type": "display_data"
    }
   ],
   "source": [
    "sns.boxplot(x='Promoted_or_Not', y='Last_performance_score', data=train)"
   ]
  },
  {
   "cell_type": "markdown",
   "metadata": {},
   "source": [
    "Finaly some excitement. There is still some overlap from the classes but there is a clear enough distinction. Better than previous columns."
   ]
  },
  {
   "cell_type": "code",
   "execution_count": 16,
   "metadata": {},
   "outputs": [
    {
     "data": {
      "text/plain": [
       "<matplotlib.axes._subplots.AxesSubplot at 0x2d30827d908>"
      ]
     },
     "execution_count": 16,
     "metadata": {},
     "output_type": "execute_result"
    },
    {
     "data": {
      "image/png": "[encoded data removed]",
      "text/plain": [
       "<Figure size 432x288 with 1 Axes>"
      ]
     },
     "metadata": {
      "needs_background": "light"
     },
     "output_type": "display_data"
    }
   ],
   "source": [
    "sns.distplot(train['Last_performance_score'])"
   ]
  },
  {
   "cell_type": "markdown",
   "metadata": {},
   "source": [
    "Perhaps this column is best treated as categorical. The peformance scores appear to have been standardised to chosen scores. "
   ]
  },
  {
   "cell_type": "code",
   "execution_count": 17,
   "metadata": {},
   "outputs": [
    {
     "data": {
      "text/plain": [
       "<matplotlib.axes._subplots.AxesSubplot at 0x2d30a76cec8>"
      ]
     },
     "execution_count": 17,
     "metadata": {},
     "output_type": "execute_result"
    },
    {
     "data": {
      "image/png": "[encoded data removed]",
      "text/plain": [
       "<Figure size 432x288 with 1 Axes>"
      ]
     },
     "metadata": {
      "needs_background": "light"
     },
     "output_type": "display_data"
    }
   ],
   "source": [
    "sns.countplot(y=\"Promoted_or_Not\", hue=\"Last_performance_score\", data=train)"
   ]
  },
  {
   "cell_type": "markdown",
   "metadata": {},
   "source": [
    "Plotting the column this way reveals somethign interesting. More staff with performance score 12.5 are being promoted. The exact ratio is something to check later on. "
   ]
  },
  {
   "cell_type": "code",
   "execution_count": 18,
   "metadata": {},
   "outputs": [
    {
     "data": {
      "text/html": [
       "<div>\n",
       "<style scoped>\n",
       "    .dataframe tbody tr th:only-of-type {\n",
       "        vertical-align: middle;\n",
       "    }\n",
       "\n",
       "    .dataframe tbody tr th {\n",
       "        vertical-align: top;\n",
       "    }\n",
       "\n",
       "    .dataframe thead th {\n",
       "        text-align: right;\n",
       "    }\n",
       "</style>\n",
       "<table border=\"1\" class=\"dataframe\">\n",
       "  <thead>\n",
       "    <tr style=\"text-align: right;\">\n",
       "      <th>Promoted_or_Not</th>\n",
       "      <th>0</th>\n",
       "      <th>1</th>\n",
       "    </tr>\n",
       "    <tr>\n",
       "      <th>Last_performance_score</th>\n",
       "      <th></th>\n",
       "      <th></th>\n",
       "    </tr>\n",
       "  </thead>\n",
       "  <tbody>\n",
       "    <tr>\n",
       "      <td>0.0</td>\n",
       "      <td>2659</td>\n",
       "      <td>246</td>\n",
       "    </tr>\n",
       "    <tr>\n",
       "      <td>2.5</td>\n",
       "      <td>4266</td>\n",
       "      <td>59</td>\n",
       "    </tr>\n",
       "    <tr>\n",
       "      <td>5.0</td>\n",
       "      <td>2806</td>\n",
       "      <td>138</td>\n",
       "    </tr>\n",
       "    <tr>\n",
       "      <td>7.5</td>\n",
       "      <td>12059</td>\n",
       "      <td>934</td>\n",
       "    </tr>\n",
       "    <tr>\n",
       "      <td>10.0</td>\n",
       "      <td>6367</td>\n",
       "      <td>565</td>\n",
       "    </tr>\n",
       "    <tr>\n",
       "      <td>12.5</td>\n",
       "      <td>6914</td>\n",
       "      <td>1299</td>\n",
       "    </tr>\n",
       "  </tbody>\n",
       "</table>\n",
       "</div>"
      ],
      "text/plain": [
       "Promoted_or_Not             0     1\n",
       "Last_performance_score             \n",
       "0.0                      2659   246\n",
       "2.5                      4266    59\n",
       "5.0                      2806   138\n",
       "7.5                     12059   934\n",
       "10.0                     6367   565\n",
       "12.5                     6914  1299"
      ]
     },
     "execution_count": 18,
     "metadata": {},
     "output_type": "execute_result"
    }
   ],
   "source": [
    "train.groupby(['Last_performance_score', 'Promoted_or_Not']).apply(lambda x: x.count()).iloc[:, 0].unstack()"
   ]
  },
  {
   "cell_type": "markdown",
   "metadata": {},
   "source": [
    "This dataframe confirms it. And it is intuitive that staff with higher performance score should get promoted. \n",
    "\n",
    "Something intersting is going on with staff with 0.0 Performance Score being promoted. "
   ]
  },
  {
   "cell_type": "code",
   "execution_count": 19,
   "metadata": {},
   "outputs": [
    {
     "data": {
      "text/plain": [
       "<matplotlib.axes._subplots.AxesSubplot at 0x2d30a820d88>"
      ]
     },
     "execution_count": 19,
     "metadata": {},
     "output_type": "execute_result"
    },
    {
     "data": {
      "image/png": "[encoded data removed]",
      "text/plain": [
       "<Figure size 432x288 with 1 Axes>"
      ]
     },
     "metadata": {
      "needs_background": "light"
     },
     "output_type": "display_data"
    }
   ],
   "source": [
    "sns.boxplot(x='Promoted_or_Not', y='Training_score_average', data=train)"
   ]
  },
  {
   "cell_type": "markdown",
   "metadata": {},
   "source": [
    "This also shows some separation of the classes. There is some overlap but it gives us something. "
   ]
  },
  {
   "cell_type": "code",
   "execution_count": 20,
   "metadata": {},
   "outputs": [
    {
     "data": {
      "text/plain": [
       "<matplotlib.axes._subplots.AxesSubplot at 0x2d30a894c88>"
      ]
     },
     "execution_count": 20,
     "metadata": {},
     "output_type": "execute_result"
    },
    {
     "data": {
      "image/png": "[encoded data removed]",
      "text/plain": [
       "<Figure size 432x288 with 1 Axes>"
      ]
     },
     "metadata": {
      "needs_background": "light"
     },
     "output_type": "display_data"
    }
   ],
   "source": [
    "sns.distplot(train['Training_score_average'])"
   ]
  },
  {
   "cell_type": "code",
   "execution_count": null,
   "metadata": {},
   "outputs": [],
   "source": []
  },
  {
   "cell_type": "code",
   "execution_count": 21,
   "metadata": {},
   "outputs": [
    {
     "data": {
      "text/plain": [
       "<matplotlib.axes._subplots.AxesSubplot at 0x2d30a96ed08>"
      ]
     },
     "execution_count": 21,
     "metadata": {},
     "output_type": "execute_result"
    },
    {
     "data": {
      "image/png": "[encoded data removed]",
      "text/plain": [
       "<Figure size 432x288 with 1 Axes>"
      ]
     },
     "metadata": {
      "needs_background": "light"
     },
     "output_type": "display_data"
    }
   ],
   "source": [
    "sns.boxplot(x='Promoted_or_Not', y='Trainings_Attended', data=train)"
   ]
  },
  {
   "cell_type": "code",
   "execution_count": 22,
   "metadata": {},
   "outputs": [
    {
     "data": {
      "text/plain": [
       "<matplotlib.axes._subplots.AxesSubplot at 0x2d30a9df9c8>"
      ]
     },
     "execution_count": 22,
     "metadata": {},
     "output_type": "execute_result"
    },
    {
     "data": {
      "image/png": "[encoded data removed]",
      "text/plain": [
       "<Figure size 432x288 with 1 Axes>"
      ]
     },
     "metadata": {
      "needs_background": "light"
     },
     "output_type": "display_data"
    }
   ],
   "source": [
    "sns.countplot(y=\"Promoted_or_Not\", hue=\"Trainings_Attended\", data=train)"
   ]
  },
  {
   "cell_type": "code",
   "execution_count": 23,
   "metadata": {},
   "outputs": [
    {
     "data": {
      "text/plain": [
       "2     30981\n",
       "3      5631\n",
       "4      1244\n",
       "5       316\n",
       "6        93\n",
       "7        28\n",
       "8         6\n",
       "10        5\n",
       "11        4\n",
       "9         4\n",
       "Name: Trainings_Attended, dtype: int64"
      ]
     },
     "execution_count": 23,
     "metadata": {},
     "output_type": "execute_result"
    }
   ],
   "source": [
    "train['Trainings_Attended'].value_counts()"
   ]
  },
  {
   "cell_type": "code",
   "execution_count": 24,
   "metadata": {},
   "outputs": [
    {
     "data": {
      "text/plain": [
       "<matplotlib.axes._subplots.AxesSubplot at 0x2d30aa9ed48>"
      ]
     },
     "execution_count": 24,
     "metadata": {},
     "output_type": "execute_result"
    },
    {
     "data": {
      "image/png": "[encoded data removed]",
      "text/plain": [
       "<Figure size 432x288 with 1 Axes>"
      ]
     },
     "metadata": {
      "needs_background": "light"
     },
     "output_type": "display_data"
    }
   ],
   "source": [
    "sns.countplot(y=\"Promoted_or_Not\", hue=\"Division\", data=train)"
   ]
  },
  {
   "cell_type": "code",
   "execution_count": 25,
   "metadata": {},
   "outputs": [
    {
     "data": {
      "text/plain": [
       "<matplotlib.axes._subplots.AxesSubplot at 0x2d30ab22248>"
      ]
     },
     "execution_count": 25,
     "metadata": {},
     "output_type": "execute_result"
    },
    {
     "data": {
      "image/png": "[encoded data removed]",
      "text/plain": [
       "<Figure size 432x288 with 1 Axes>"
      ]
     },
     "metadata": {
      "needs_background": "light"
     },
     "output_type": "display_data"
    }
   ],
   "source": [
    "sns.countplot(y=\"Promoted_or_Not\", hue=\"Gender\", data=train)"
   ]
  },
  {
   "cell_type": "markdown",
   "metadata": {},
   "source": [
    "The graph above shows that more Male Staff are promoted. More Male Staff are also not promoted. Are male staff more likely to be promoted than Female Staff? A simple function can help answer questions like this."
   ]
  },
  {
   "cell_type": "code",
   "execution_count": 26,
   "metadata": {},
   "outputs": [],
   "source": [
    "def bias_checker(data, column, target=\"Promoted_or_Not\", ascending=False, relative=True):\n",
    "    \n",
    "    \"\"\"To check if there is a bias towards a particular \n",
    "    category \n",
    "    \n",
    "    data - dataframe to be checked for bias\n",
    "    column - column to be checked. Must be categorical\n",
    "    ascending - whether to sort present in ascending or descending order\n",
    "    relative - whether or not to divide by largest values\n",
    "    \n",
    "    Interpretation\n",
    "    Category x assigned 0.15 values means that there is \n",
    "    a 15% chance of being promoted if a staff belongs to \n",
    "    this category\n",
    "    \n",
    "    If relative is true, then values assigned to categories are relative to \n",
    "    the category assigned 1.0. In such case, if a category is assigned as value \n",
    "    of 0.15 then they are only 15% as likely to get a promotion as the reference \n",
    "    category\"\"\"\n",
    "    \n",
    "    temp = data.groupby([column, target]).apply(lambda x: x.count()).iloc[:, 0].unstack()\n",
    "    temp = temp.div(temp.sum(axis=1), axis=0)\n",
    "    temp = temp.loc[:, 1]\n",
    "    if relative:\n",
    "        temp = temp / temp.max()\n",
    "    temp = temp.sort_values(ascending=ascending)\n",
    "    temp.rename('Promoted', inplace=True)\n",
    "    \n",
    "    return temp"
   ]
  },
  {
   "cell_type": "code",
   "execution_count": 27,
   "metadata": {},
   "outputs": [
    {
     "name": "stdout",
     "output_type": "stream",
     "text": [
      "Channel_of_Recruitment\n",
      "Referral and Special candidates    1.000000\n",
      "Agency and others                  0.694877\n",
      "Direct Internal process            0.685802\n",
      "Name: Promoted, dtype: float64 \n",
      "\n",
      "Division\n",
      "Information Technology and Solution Support    1.000000\n",
      "Sourcing and Purchasing                        0.900979\n",
      "Information and Strategy                       0.870540\n",
      "Customer Support and Field Operations          0.821902\n",
      "Business Finance Operations                    0.760922\n",
      "Commercial Sales and Marketing                 0.669368\n",
      "Research and Innovation                        0.575080\n",
      "People/HR Management                           0.529872\n",
      "Regulatory and Legal services                  0.520654\n",
      "Name: Promoted, dtype: float64 \n",
      "\n",
      "Foreign_schooled\n",
      "Yes    1.000000\n",
      "No     0.962661\n",
      "Name: Promoted, dtype: float64 \n",
      "\n",
      "Gender\n",
      "Female    1.00000\n",
      "Male      0.92872\n",
      "Name: Promoted, dtype: float64 \n",
      "\n",
      "Marital_Status\n",
      "Not_Sure    1.000000\n",
      "Married     0.790893\n",
      "Single      0.760525\n",
      "Name: Promoted, dtype: float64 \n",
      "\n",
      "No_of_previous_employers\n",
      "2              1.000000\n",
      "4              0.995940\n",
      "1              0.932259\n",
      "3              0.927028\n",
      "0              0.897470\n",
      "More than 5    0.842468\n",
      "5              0.820508\n",
      "Name: Promoted, dtype: float64 \n",
      "\n",
      "Past_Disciplinary_Action\n",
      "Yes    1.000000\n",
      "No     0.797567\n",
      "Name: Promoted, dtype: float64 \n",
      "\n",
      "Previous_Award\n",
      "1    1.000000\n",
      "0    0.169299\n",
      "Name: Promoted, dtype: float64 \n",
      "\n",
      "Previous_IntraDepartmental_Movement\n",
      "No     1.000000\n",
      "Yes    0.907396\n",
      "Name: Promoted, dtype: float64 \n",
      "\n",
      "Qualification\n",
      "MSc, MBA and PhD            1.000000\n",
      "Non-University Education    0.911301\n",
      "First Degree or HND         0.823227\n",
      "Name: Promoted, dtype: float64 \n",
      "\n",
      "State_Of_Origin\n",
      "ONDO           1.000000\n",
      "GOMBE          0.875788\n",
      "TARABA         0.849515\n",
      "SOKOTO         0.817168\n",
      "ANAMBRA        0.814739\n",
      "OSUN           0.804707\n",
      "KEBBI          0.778181\n",
      "BORNO          0.760192\n",
      "ENUGU          0.754203\n",
      "IMO            0.753969\n",
      "NASSARAWA      0.752734\n",
      "PLATEAU        0.747205\n",
      "KANO           0.746996\n",
      "OYO            0.737974\n",
      "DELTA          0.735464\n",
      "LAGOS          0.731207\n",
      "RIVERS         0.730231\n",
      "EKITI          0.728155\n",
      "AKWA IBOM      0.719500\n",
      "CROSS RIVER    0.703638\n",
      "KADUNA         0.698314\n",
      "YOBE           0.694156\n",
      "BAUCHI         0.686322\n",
      "EDO            0.681501\n",
      "ZAMFARA        0.673753\n",
      "FCT            0.664961\n",
      "KATSINA        0.663036\n",
      "BENUE          0.660244\n",
      "ADAMAWA        0.659953\n",
      "BAYELSA        0.655490\n",
      "KOGI           0.642622\n",
      "OGUN           0.634737\n",
      "NIGER          0.604672\n",
      "EBONYI         0.597103\n",
      "JIGAWA         0.583636\n",
      "ABIA           0.581247\n",
      "KWARA          0.577448\n",
      "Name: Promoted, dtype: float64 \n",
      "\n",
      "Targets_met\n",
      "1    1.000000\n",
      "0    0.227248\n",
      "Name: Promoted, dtype: float64 \n",
      "\n"
     ]
    }
   ],
   "source": [
    "for col in categorical_columns:\n",
    "    print(bias_checker(train, col, relative=True), \"\\n\")"
   ]
  },
  {
   "cell_type": "code",
   "execution_count": 28,
   "metadata": {},
   "outputs": [
    {
     "data": {
      "text/plain": [
       "Last_performance_score\n",
       "12.5    1.000000\n",
       "0.0     0.535404\n",
       "10.0    0.515327\n",
       "7.5     0.454496\n",
       "5.0     0.296370\n",
       "2.5     0.086250\n",
       "Name: Promoted, dtype: float64"
      ]
     },
     "execution_count": 28,
     "metadata": {},
     "output_type": "execute_result"
    }
   ],
   "source": [
    "bias_checker(train, 'Last_performance_score', relative=True)"
   ]
  },
  {
   "cell_type": "markdown",
   "metadata": {},
   "source": [
    "This bias checker is interesting. It is checking how likely staff are to be promoted based on categories that they belong to.\n",
    "\n",
    "Targets Met is definitely an interesting column. Staff are about 5 times more likely to be promoted if they meet their target. \n",
    "Previous Award is also interesting. Staff are more than 6 times more likely to be promoted if they have previous awards."
   ]
  },
  {
   "cell_type": "markdown",
   "metadata": {},
   "source": [
    "## Correlation Matrices"
   ]
  },
  {
   "cell_type": "code",
   "execution_count": 30,
   "metadata": {},
   "outputs": [
    {
     "data": {
      "text/plain": [
       "Text(0.5, 1, 'Correlation Matrix')"
      ]
     },
     "execution_count": 30,
     "metadata": {},
     "output_type": "execute_result"
    },
    {
     "data": {
      "image/png": "[encoded data removed]",
      "text/plain": [
       "<Figure size 936x720 with 2 Axes>"
      ]
     },
     "metadata": {
      "needs_background": "light"
     },
     "output_type": "display_data"
    }
   ],
   "source": [
    "#Correlation netw\n",
    "fig, axes = plt.subplots(figsize=(13, 10))\n",
    "sns.heatmap(train.corr(), linewidths=0.5, ax=axes, annot=True)\n",
    "axes.set_title('Correlation Matrix')"
   ]
  },
  {
   "cell_type": "markdown",
   "metadata": {},
   "source": [
    "There is no serious correlation here so there is no danger of multicollinearity. \n",
    "\n",
    "Age and Years on Job show a high positive correlation - 0.65"
   ]
  },
  {
   "cell_type": "code",
   "execution_count": null,
   "metadata": {},
   "outputs": [],
   "source": []
  }
 ],
 "metadata": {
  "kernelspec": {
   "display_name": "Python 3",
   "language": "python",
   "name": "python3"
  },
  "language_info": {
   "codemirror_mode": {
    "name": "ipython",
    "version": 3
   },
   "file_extension": ".py",
   "mimetype": "text/x-python",
   "name": "python",
   "nbconvert_exporter": "python",
   "pygments_lexer": "ipython3",
   "version": "3.7.4"
  }
 },
 "nbformat": 4,
 "nbformat_minor": 4
}
